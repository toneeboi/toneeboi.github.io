{
 "cells": [
  {
   "cell_type": "code",
   "execution_count": 5,
   "metadata": {
    "ExecuteTime": {
     "end_time": "2020-09-01T10:30:40.199990Z",
     "start_time": "2020-09-01T10:30:40.194022Z"
    }
   },
   "outputs": [],
   "source": [
    "import pandas as pd\n",
    "import numpy as np\n",
    "import json\n",
    "import re\n",
    "import time\n",
    "import pickle\n",
    "import os"
   ]
  },
  {
   "cell_type": "markdown",
   "metadata": {},
   "source": [
    "# Filtering for Chinese Businesses"
   ]
  },
  {
   "cell_type": "code",
   "execution_count": 3,
   "metadata": {
    "ExecuteTime": {
     "end_time": "2020-09-01T10:22:19.572906Z",
     "start_time": "2020-09-01T10:22:19.107532Z"
    }
   },
   "outputs": [],
   "source": [
    "def get_busdata():\n",
    "    try:\n",
    "        with open('/mnt/data/public/yelp/challenge12/yelp_dataset/'\n",
    "                      'yelp_academic_dataset_business.json', 'r') as f:\n",
    "                business = f.readlines()\n",
    "\n",
    "        businesses = []\n",
    "        for i in range(len(business)):\n",
    "            data = json.loads(business[i])\n",
    "            businesses.append(data)\n",
    "\n",
    "        bus_df = pd.DataFrame(businesses)\n",
    "        chinese = bus_df.dropna()\n",
    "        chinese = chinese[chinese['categories'].str.contains('Chinese|chinese')]\n",
    "        bus = chinese\n",
    "\n",
    "    except:\n",
    "        bus = pd.read_csv('chinese_bus.csv')\n",
    "    \n",
    "    return bus"
   ]
  },
  {
   "cell_type": "code",
   "execution_count": 14,
   "metadata": {
    "ExecuteTime": {
     "end_time": "2020-09-01T10:36:01.471342Z",
     "start_time": "2020-09-01T10:36:01.405516Z"
    }
   },
   "outputs": [],
   "source": [
    "if os.path.isfile('chinese_bus.csv'):\n",
    "    bus = pd.read_csv('chinese_bus.csv')\\\n",
    "            .rename(columns = {'Unnamed: 0': 'review_id'})\n",
    "    \n",
    "else:\n",
    "    bus = get_revdata()"
   ]
  },
  {
   "cell_type": "code",
   "execution_count": 15,
   "metadata": {
    "ExecuteTime": {
     "end_time": "2020-09-01T10:36:03.473665Z",
     "start_time": "2020-09-01T10:36:03.450725Z"
    }
   },
   "outputs": [
    {
     "data": {
      "text/html": [
       "<div>\n",
       "<style scoped>\n",
       "    .dataframe tbody tr th:only-of-type {\n",
       "        vertical-align: middle;\n",
       "    }\n",
       "\n",
       "    .dataframe tbody tr th {\n",
       "        vertical-align: top;\n",
       "    }\n",
       "\n",
       "    .dataframe thead th {\n",
       "        text-align: right;\n",
       "    }\n",
       "</style>\n",
       "<table border=\"1\" class=\"dataframe\">\n",
       "  <thead>\n",
       "    <tr style=\"text-align: right;\">\n",
       "      <th></th>\n",
       "      <th>review_id</th>\n",
       "      <th>business_id</th>\n",
       "      <th>name</th>\n",
       "      <th>neighborhood</th>\n",
       "      <th>address</th>\n",
       "      <th>city</th>\n",
       "      <th>state</th>\n",
       "      <th>postal_code</th>\n",
       "      <th>latitude</th>\n",
       "      <th>longitude</th>\n",
       "      <th>stars</th>\n",
       "      <th>review_count</th>\n",
       "      <th>is_open</th>\n",
       "      <th>attributes</th>\n",
       "      <th>categories</th>\n",
       "      <th>hours</th>\n",
       "    </tr>\n",
       "  </thead>\n",
       "  <tbody>\n",
       "    <tr>\n",
       "      <th>0</th>\n",
       "      <td>73</td>\n",
       "      <td>f2FfutZhb4F-m1Ob0EdYaw</td>\n",
       "      <td>China Palace</td>\n",
       "      <td>Shadyside</td>\n",
       "      <td>5440 Walnut St</td>\n",
       "      <td>Pittsburgh</td>\n",
       "      <td>PA</td>\n",
       "      <td>15232</td>\n",
       "      <td>40.450866</td>\n",
       "      <td>-79.933919</td>\n",
       "      <td>3.0</td>\n",
       "      <td>110</td>\n",
       "      <td>1</td>\n",
       "      <td>{'Alcohol': 'full_bar', 'Ambience': \"{'romanti...</td>\n",
       "      <td>Asian Fusion, Caterers, Fast Food, Chinese, Re...</td>\n",
       "      <td>{'Monday': '11:0-22:0', 'Tuesday': '11:0-22:0'...</td>\n",
       "    </tr>\n",
       "    <tr>\n",
       "      <th>1</th>\n",
       "      <td>109</td>\n",
       "      <td>SUhBnQdG8MWkmjM6wsnVdw</td>\n",
       "      <td>Tang Dynasty Restaurant And Bar</td>\n",
       "      <td>NaN</td>\n",
       "      <td>2515 N Scottsdale Rd</td>\n",
       "      <td>Scottsdale</td>\n",
       "      <td>AZ</td>\n",
       "      <td>85257</td>\n",
       "      <td>33.475349</td>\n",
       "      <td>-111.925657</td>\n",
       "      <td>3.5</td>\n",
       "      <td>28</td>\n",
       "      <td>1</td>\n",
       "      <td>{'Alcohol': 'none', 'Ambience': \"{'romantic': ...</td>\n",
       "      <td>Chinese, Bars, Karaoke, Nightlife, Restaurants</td>\n",
       "      <td>{'Monday': '12:0-22:30', 'Tuesday': '11:0-23:0...</td>\n",
       "    </tr>\n",
       "    <tr>\n",
       "      <th>2</th>\n",
       "      <td>214</td>\n",
       "      <td>5ZqybrqiTdbANn2yI3B3VA</td>\n",
       "      <td>Great Wall</td>\n",
       "      <td>Allied Dunn's Marsh</td>\n",
       "      <td>4515 Verona Rd</td>\n",
       "      <td>Madison</td>\n",
       "      <td>WI</td>\n",
       "      <td>53711</td>\n",
       "      <td>43.035241</td>\n",
       "      <td>-89.453599</td>\n",
       "      <td>3.5</td>\n",
       "      <td>22</td>\n",
       "      <td>1</td>\n",
       "      <td>{'Alcohol': 'none', 'Ambience': \"{'romantic': ...</td>\n",
       "      <td>Restaurants, Chinese</td>\n",
       "      <td>{'Monday': '10:30-21:30', 'Tuesday': '10:30-21...</td>\n",
       "    </tr>\n",
       "    <tr>\n",
       "      <th>3</th>\n",
       "      <td>331</td>\n",
       "      <td>J8PbfZbU7XTs-h55ezuQcQ</td>\n",
       "      <td>CHANG HUA GARDEN</td>\n",
       "      <td>NaN</td>\n",
       "      <td>811 S Gammon Rd</td>\n",
       "      <td>Fitchburg</td>\n",
       "      <td>WI</td>\n",
       "      <td>53719</td>\n",
       "      <td>43.047406</td>\n",
       "      <td>-89.502630</td>\n",
       "      <td>4.5</td>\n",
       "      <td>3</td>\n",
       "      <td>0</td>\n",
       "      <td>{'RestaurantsAttire': 'casual'}</td>\n",
       "      <td>Chinese, Restaurants</td>\n",
       "      <td>{'Monday': '11:0-21:0', 'Tuesday': '11:0-21:0'...</td>\n",
       "    </tr>\n",
       "    <tr>\n",
       "      <th>4</th>\n",
       "      <td>372</td>\n",
       "      <td>YkAIlxYZ1guSqbbowU9X4g</td>\n",
       "      <td>Luckee</td>\n",
       "      <td>Entertainment District</td>\n",
       "      <td>328 Wellington Street W</td>\n",
       "      <td>Toronto</td>\n",
       "      <td>ON</td>\n",
       "      <td>M5V 3T4</td>\n",
       "      <td>43.644697</td>\n",
       "      <td>-79.392395</td>\n",
       "      <td>3.5</td>\n",
       "      <td>171</td>\n",
       "      <td>1</td>\n",
       "      <td>{'Alcohol': 'full_bar', 'Ambience': \"{'romanti...</td>\n",
       "      <td>Restaurants, Chinese, Dim Sum, Breakfast &amp; Brunch</td>\n",
       "      <td>{'Monday': '16:0-1:0', 'Tuesday': '12:0-1:0', ...</td>\n",
       "    </tr>\n",
       "  </tbody>\n",
       "</table>\n",
       "</div>"
      ],
      "text/plain": [
       "   review_id             business_id                             name  \\\n",
       "0         73  f2FfutZhb4F-m1Ob0EdYaw                     China Palace   \n",
       "1        109  SUhBnQdG8MWkmjM6wsnVdw  Tang Dynasty Restaurant And Bar   \n",
       "2        214  5ZqybrqiTdbANn2yI3B3VA                       Great Wall   \n",
       "3        331  J8PbfZbU7XTs-h55ezuQcQ                 CHANG HUA GARDEN   \n",
       "4        372  YkAIlxYZ1guSqbbowU9X4g                           Luckee   \n",
       "\n",
       "             neighborhood                  address        city state  \\\n",
       "0               Shadyside           5440 Walnut St  Pittsburgh    PA   \n",
       "1                     NaN     2515 N Scottsdale Rd  Scottsdale    AZ   \n",
       "2     Allied Dunn's Marsh           4515 Verona Rd     Madison    WI   \n",
       "3                     NaN          811 S Gammon Rd   Fitchburg    WI   \n",
       "4  Entertainment District  328 Wellington Street W     Toronto    ON   \n",
       "\n",
       "  postal_code   latitude   longitude  stars  review_count  is_open  \\\n",
       "0       15232  40.450866  -79.933919    3.0           110        1   \n",
       "1       85257  33.475349 -111.925657    3.5            28        1   \n",
       "2       53711  43.035241  -89.453599    3.5            22        1   \n",
       "3       53719  43.047406  -89.502630    4.5             3        0   \n",
       "4     M5V 3T4  43.644697  -79.392395    3.5           171        1   \n",
       "\n",
       "                                          attributes  \\\n",
       "0  {'Alcohol': 'full_bar', 'Ambience': \"{'romanti...   \n",
       "1  {'Alcohol': 'none', 'Ambience': \"{'romantic': ...   \n",
       "2  {'Alcohol': 'none', 'Ambience': \"{'romantic': ...   \n",
       "3                    {'RestaurantsAttire': 'casual'}   \n",
       "4  {'Alcohol': 'full_bar', 'Ambience': \"{'romanti...   \n",
       "\n",
       "                                          categories  \\\n",
       "0  Asian Fusion, Caterers, Fast Food, Chinese, Re...   \n",
       "1     Chinese, Bars, Karaoke, Nightlife, Restaurants   \n",
       "2                               Restaurants, Chinese   \n",
       "3                               Chinese, Restaurants   \n",
       "4  Restaurants, Chinese, Dim Sum, Breakfast & Brunch   \n",
       "\n",
       "                                               hours  \n",
       "0  {'Monday': '11:0-22:0', 'Tuesday': '11:0-22:0'...  \n",
       "1  {'Monday': '12:0-22:30', 'Tuesday': '11:0-23:0...  \n",
       "2  {'Monday': '10:30-21:30', 'Tuesday': '10:30-21...  \n",
       "3  {'Monday': '11:0-21:0', 'Tuesday': '11:0-21:0'...  \n",
       "4  {'Monday': '16:0-1:0', 'Tuesday': '12:0-1:0', ...  "
      ]
     },
     "execution_count": 15,
     "metadata": {},
     "output_type": "execute_result"
    }
   ],
   "source": [
    "bus.head()"
   ]
  },
  {
   "cell_type": "markdown",
   "metadata": {},
   "source": [
    "# Review Data"
   ]
  },
  {
   "cell_type": "code",
   "execution_count": 11,
   "metadata": {
    "ExecuteTime": {
     "end_time": "2020-09-01T10:33:01.854393Z",
     "start_time": "2020-09-01T10:33:01.847401Z"
    }
   },
   "outputs": [],
   "source": [
    "bus_id_list = bus.business_id.tolist()\n",
    "\n",
    "def get_revdata():\n",
    "    try:\n",
    "        with open('/mnt/data/public/yelp/challenge12/yelp_dataset/'\n",
    "                  'yelp_academic_dataset_review.json') as f:\n",
    "            review = f.readlines()\n",
    "\n",
    "        json.loads(review[0])['business_id'] in bus_id_list\n",
    "\n",
    "        # Filtering for reviews for businesses found in Chinese business list\n",
    "        rev = {}\n",
    "        for i in review:\n",
    "            x = json.loads(i)\n",
    "            if x['business_id'] in bus_id_list:\n",
    "                for d in x:\n",
    "                    rev[x['review_id']] = x\n",
    "\n",
    "        reviews = pd.DataFrame(rev).T.drop(columns = 'review_id')\n",
    "        rev = reviews\n",
    "\n",
    "    except:\n",
    "        rev = pd.read_csv('reviews.csv')\\\n",
    "        .rename(columns = {'Unnamed: 0': 'review_id'})\n",
    "        \n",
    "    return rev"
   ]
  },
  {
   "cell_type": "code",
   "execution_count": 12,
   "metadata": {
    "ExecuteTime": {
     "end_time": "2020-09-01T10:34:56.004988Z",
     "start_time": "2020-09-01T10:34:53.999760Z"
    }
   },
   "outputs": [],
   "source": [
    "if os.path.isfile('reviews.csv'):\n",
    "    rev = pd.read_csv('reviews.csv')\\\n",
    "            .rename(columns = {'Unnamed: 0': 'review_id'})\n",
    "    \n",
    "else:\n",
    "    rev = get_revdata()"
   ]
  },
  {
   "cell_type": "code",
   "execution_count": 13,
   "metadata": {
    "ExecuteTime": {
     "end_time": "2020-09-01T10:34:57.915216Z",
     "start_time": "2020-09-01T10:34:57.898235Z"
    }
   },
   "outputs": [
    {
     "data": {
      "text/html": [
       "<div>\n",
       "<style scoped>\n",
       "    .dataframe tbody tr th:only-of-type {\n",
       "        vertical-align: middle;\n",
       "    }\n",
       "\n",
       "    .dataframe tbody tr th {\n",
       "        vertical-align: top;\n",
       "    }\n",
       "\n",
       "    .dataframe thead th {\n",
       "        text-align: right;\n",
       "    }\n",
       "</style>\n",
       "<table border=\"1\" class=\"dataframe\">\n",
       "  <thead>\n",
       "    <tr style=\"text-align: right;\">\n",
       "      <th></th>\n",
       "      <th>review_id</th>\n",
       "      <th>user_id</th>\n",
       "      <th>business_id</th>\n",
       "      <th>stars</th>\n",
       "      <th>date</th>\n",
       "      <th>text</th>\n",
       "      <th>useful</th>\n",
       "      <th>funny</th>\n",
       "      <th>cool</th>\n",
       "    </tr>\n",
       "  </thead>\n",
       "  <tbody>\n",
       "    <tr>\n",
       "      <th>0</th>\n",
       "      <td>oz66Z8p9Etq0WbcZVCmm7w</td>\n",
       "      <td>0pf5VuzE4_1pwj5NJHG5TQ</td>\n",
       "      <td>OX0T9dWI8b7meu-ljTo22A</td>\n",
       "      <td>5</td>\n",
       "      <td>2016-05-01</td>\n",
       "      <td>Friendliest staff, no matter how swamped they ...</td>\n",
       "      <td>0</td>\n",
       "      <td>0</td>\n",
       "      <td>0</td>\n",
       "    </tr>\n",
       "    <tr>\n",
       "      <th>1</th>\n",
       "      <td>8k2WpYJFfsPL3kupmvGjWA</td>\n",
       "      <td>0pf5VuzE4_1pwj5NJHG5TQ</td>\n",
       "      <td>szhJLmdLDVFTevm8fu0T4A</td>\n",
       "      <td>5</td>\n",
       "      <td>2016-05-01</td>\n",
       "      <td>Best place for dim sum in the valley.  Prefer ...</td>\n",
       "      <td>0</td>\n",
       "      <td>0</td>\n",
       "      <td>0</td>\n",
       "    </tr>\n",
       "    <tr>\n",
       "      <th>2</th>\n",
       "      <td>JvCsQXCkTkybpkJd8oSimw</td>\n",
       "      <td>0pf5VuzE4_1pwj5NJHG5TQ</td>\n",
       "      <td>A2pHOVp0zh7grb1bbZxoBQ</td>\n",
       "      <td>4</td>\n",
       "      <td>2016-06-13</td>\n",
       "      <td>Love the house chicken and chicken fried rice....</td>\n",
       "      <td>0</td>\n",
       "      <td>0</td>\n",
       "      <td>0</td>\n",
       "    </tr>\n",
       "    <tr>\n",
       "      <th>3</th>\n",
       "      <td>mqhCY5oLA1LXP6gZ3JQDTQ</td>\n",
       "      <td>Yy_iGXxLpL6tYDQoE-6XVg</td>\n",
       "      <td>JPfi__QJAaRzmfh5aOyFEw</td>\n",
       "      <td>3</td>\n",
       "      <td>2017-01-31</td>\n",
       "      <td>The spicy wonton was my favorite. We ordered a...</td>\n",
       "      <td>0</td>\n",
       "      <td>0</td>\n",
       "      <td>0</td>\n",
       "    </tr>\n",
       "    <tr>\n",
       "      <th>4</th>\n",
       "      <td>sjvlLg6iKlsw4pje1-FElg</td>\n",
       "      <td>OQT9DjfBrzrwOEdVJjuYIA</td>\n",
       "      <td>HDv-KchmLSlRr5MXxRkNqQ</td>\n",
       "      <td>3</td>\n",
       "      <td>2012-08-18</td>\n",
       "      <td>I have passed this spot hundreds of times but ...</td>\n",
       "      <td>3</td>\n",
       "      <td>0</td>\n",
       "      <td>0</td>\n",
       "    </tr>\n",
       "  </tbody>\n",
       "</table>\n",
       "</div>"
      ],
      "text/plain": [
       "                review_id                 user_id             business_id  \\\n",
       "0  oz66Z8p9Etq0WbcZVCmm7w  0pf5VuzE4_1pwj5NJHG5TQ  OX0T9dWI8b7meu-ljTo22A   \n",
       "1  8k2WpYJFfsPL3kupmvGjWA  0pf5VuzE4_1pwj5NJHG5TQ  szhJLmdLDVFTevm8fu0T4A   \n",
       "2  JvCsQXCkTkybpkJd8oSimw  0pf5VuzE4_1pwj5NJHG5TQ  A2pHOVp0zh7grb1bbZxoBQ   \n",
       "3  mqhCY5oLA1LXP6gZ3JQDTQ  Yy_iGXxLpL6tYDQoE-6XVg  JPfi__QJAaRzmfh5aOyFEw   \n",
       "4  sjvlLg6iKlsw4pje1-FElg  OQT9DjfBrzrwOEdVJjuYIA  HDv-KchmLSlRr5MXxRkNqQ   \n",
       "\n",
       "   stars        date                                               text  \\\n",
       "0      5  2016-05-01  Friendliest staff, no matter how swamped they ...   \n",
       "1      5  2016-05-01  Best place for dim sum in the valley.  Prefer ...   \n",
       "2      4  2016-06-13  Love the house chicken and chicken fried rice....   \n",
       "3      3  2017-01-31  The spicy wonton was my favorite. We ordered a...   \n",
       "4      3  2012-08-18  I have passed this spot hundreds of times but ...   \n",
       "\n",
       "   useful  funny  cool  \n",
       "0       0      0     0  \n",
       "1       0      0     0  \n",
       "2       0      0     0  \n",
       "3       0      0     0  \n",
       "4       3      0     0  "
      ]
     },
     "execution_count": 13,
     "metadata": {},
     "output_type": "execute_result"
    }
   ],
   "source": [
    "rev.head()"
   ]
  },
  {
   "cell_type": "markdown",
   "metadata": {},
   "source": [
    "# Data Merge"
   ]
  },
  {
   "cell_type": "code",
   "execution_count": 17,
   "metadata": {
    "ExecuteTime": {
     "end_time": "2020-09-01T10:37:00.459171Z",
     "start_time": "2020-09-01T10:37:00.078575Z"
    }
   },
   "outputs": [],
   "source": [
    "df = rev.merge(bus, on = \"business_id\")"
   ]
  },
  {
   "cell_type": "code",
   "execution_count": 18,
   "metadata": {
    "ExecuteTime": {
     "end_time": "2020-09-01T10:37:00.707248Z",
     "start_time": "2020-09-01T10:37:00.460906Z"
    }
   },
   "outputs": [],
   "source": [
    "df = df.loc[(df['city'] == 'Las Vegas') & (df['neighborhood'] == 'Chinatown')]"
   ]
  },
  {
   "cell_type": "code",
   "execution_count": 20,
   "metadata": {
    "ExecuteTime": {
     "end_time": "2020-09-01T10:37:27.588553Z",
     "start_time": "2020-09-01T10:37:27.584563Z"
    }
   },
   "outputs": [],
   "source": [
    "try:\n",
    "    df = df.drop(columns = 'Unnamed: 0')\n",
    "\n",
    "except:\n",
    "    pass"
   ]
  },
  {
   "cell_type": "code",
   "execution_count": 21,
   "metadata": {
    "ExecuteTime": {
     "end_time": "2020-09-01T10:37:29.439343Z",
     "start_time": "2020-09-01T10:37:29.435374Z"
    }
   },
   "outputs": [],
   "source": [
    "if os.path.isfile('vegas_chinatown.csv'):\n",
    "    pass\n",
    "\n",
    "else:\n",
    "    df.to_csv('vegas_chinatown.csv')"
   ]
  }
 ],
 "metadata": {
  "kernelspec": {
   "display_name": "Python 3",
   "language": "python",
   "name": "python3"
  },
  "language_info": {
   "codemirror_mode": {
    "name": "ipython",
    "version": 3
   },
   "file_extension": ".py",
   "mimetype": "text/x-python",
   "name": "python",
   "nbconvert_exporter": "python",
   "pygments_lexer": "ipython3",
   "version": "3.7.7"
  },
  "latex_envs": {
   "LaTeX_envs_menu_present": true,
   "autoclose": true,
   "autocomplete": false,
   "bibliofile": "biblio.bib",
   "cite_by": "apalike",
   "current_citInitial": 1,
   "eqLabelWithNumbers": true,
   "eqNumInitial": 1,
   "hotkeys": {
    "equation": "Ctrl-E",
    "itemize": "Ctrl-I"
   },
   "labels_anchors": false,
   "latex_user_defs": false,
   "report_style_numbering": false,
   "user_envs_cfg": false
  },
  "toc": {
   "base_numbering": 1,
   "nav_menu": {},
   "number_sections": true,
   "sideBar": true,
   "skip_h1_title": false,
   "title_cell": "Table of Contents",
   "title_sidebar": "Contents",
   "toc_cell": false,
   "toc_position": {},
   "toc_section_display": true,
   "toc_window_display": true
  }
 },
 "nbformat": 4,
 "nbformat_minor": 4
}
