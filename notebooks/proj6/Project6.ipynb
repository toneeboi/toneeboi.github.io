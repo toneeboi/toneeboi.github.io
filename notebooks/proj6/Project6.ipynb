{
 "cells": [
  {
   "cell_type": "markdown",
   "metadata": {
    "colab_type": "text",
    "id": "q3QJJYoXn9je"
   },
   "source": [
    "<br>\n",
    "<font size=\"20\"><b>Kasikatan</b></font><br>\n",
    "<font size=\"5\"><i>Looking at Top OPM Artists of 2019</i></font><br>",
    "<font size=\"4\">This project was done together with Matthew Maulion.</font><br>"
   ]
  },
  {
   "cell_type": "markdown",
   "metadata": {
    "colab_type": "text",
    "id": "l9avbQ1_n-2C"
   },
   "source": [
    "# Executive Summary"
   ]
  },
  {
   "cell_type": "markdown",
   "metadata": {
    "colab_type": "text",
    "id": "ZV0OT1pgoC5_"
   },
   "source": [
    "Original Pinoy Music (OPM) was founded in the early 1970s. Since then it has continued to expand its reach not only in radio stations and music shows but nowadays, it also makes content available in music platforms on the web. In today's technological advancements, artists often market themselves more on the internet rather than on traditional media. And as a profit-making industry, looking at the online landscape will definitely influence the way artists and producers sell their music. This led the team to ask how these artists fair in terms of their performance across certain music platforms. \n",
    "\n",
    "We took data from __Spotify__ and __YouTube__ to look at their metrics on the performance of __Top OPM Playlist for the year 2019__, specifically `popularity` and `followers` on Spotify, and `views` and `subscriptions` on YouTube. We then looked at the correlation and ranks of these metrics against each other to give us an idea on the dynamics and performance of these top OPM artists across Spotify and YouTube.\n",
    "\n",
    "We then found that within each platform, there is a high correlation of metrics. However, there is a low correlation in performance metrics across platforms. Ranking is also varied between both platforms such that, there are artists that rank high in both, there are others that rank high in only one, and other who rank low in both among the Top 30.\n",
    "\n",
    "As the music industry moves to more online digital markets, these top artists must be aware of the landscape and how they are performing across the platforms that they market themselves in. This will allow them to position themselves more profitably while continuing to appeal to their listeners."
   ]
  },
  {
   "cell_type": "markdown",
   "metadata": {
    "colab_type": "text",
    "id": "pyr-6I-toDhr"
   },
   "source": [
    "# Introduction"
   ]
  },
  {
   "cell_type": "markdown",
   "metadata": {
    "colab_type": "text",
    "id": "CQWc7E07oGGm"
   },
   "source": [
    "Music is the universal language of mankind. People across nations, regardless of culture or previous exposure, are able to perceive the basic emotions of happiness, sadness and fear in music. $^{[1]}$ This enables them to establish a certain level of connection with the music they like.   Comprised of a vast array of genres symbolizing a distinct kind of musicality, countries around the world have certain genres of music they either specialize on or favor over another. Rock is famous across the Americas, romantic classical music is preferred in Russia, electronic/punk is a sensation in Japan, and many others. $^{[6]}$ Among all genres, the most popular one according to a study conducted by Statista in 2018 is __Pop__. In the Philippines, a unique variant of pop exists – the __OPM__.$^{[3]}$  \n",
    "\n",
    "__Original Pinoy Music__ (OPM), otherwise known as Filipino pop music, refers to a broad umbrella term for the pop music that first emerged in the country in the early 1970s. Since then and even up to this day, it has dominated radio stations and karaoke playlists in the Filipino market and beyond. On Spotify, OPM has reached 10 billion streams, with listeners in the Philippines as well as in the immigrant communities of Singapore, the United States, and Hong Kong. $^{[3]}$\n",
    "\n",
    "Merged with today's rapid growth in technology and connectivity, both the consumption and creation of music are also evolving. While this definitely impacts the every day listener, it also puts the members of the music industry — from artists to producers — on their toes. They must adjust to the dynamics brought about by recommender systems and curated playlists in how they market their music. $^{[2]}$ And the OPM industry is definitely a part of this evolution in technology. However, in order to create effective business strategies for their artists, music labels must consider the data of how their artists are performing on popular platforms.\n"
   ]
  },
  {
   "cell_type": "markdown",
   "metadata": {
    "colab_type": "text",
    "id": "gRwuftjEcPqm"
   },
   "source": [
    "## __Objective and Metrics__\n",
    "This paper aims to explore the performance in terms of popularity of the OPM artists in the Philippines across open-access music platforms: __Spotify__ and __YouTube__. Through the use of readily-available Application Programming Interfaces (APIs) of both platforms, we are able to obtain information for the analysis. Performance metrics that will be used in the study are as follows:\n",
    "\n",
    "1. __Spotify__\n",
    "  - `popularity` - \tInformation about the popularity of the artist. The value will be between 0 and 100, with 100 being the most popular. The artist’s popularity is calculated from the popularity of all the artist’s tracks.\n",
    "  - `followers` - Information about the number of followers of the artist. Measured as a nonnegative integer value.\n",
    "\n",
    "2. __YouTube__\n",
    "  - `views` - Information about the aggregated number of views of the artist. Measured as a nonnegative integer value.\n",
    "  - `subcribers`- Information about the number of subscribers of the artist. Measured as a nonnegative integer value.   "
   ]
  },
  {
   "cell_type": "markdown",
   "metadata": {
    "colab_type": "text",
    "id": "oGQs6LZOcLnl"
   },
   "source": [
    "## __Scope and Problem Statements__\n",
    "\n",
    "The artists included in this paper are those from __Spotify’s Top OPM Playlist__ for the year 2019. , we would hope to answer the following questions:\n",
    "\n",
    "\t\n",
    "1. __Internal (Within platform)__\n",
    "\t\n",
    "  - Does `Popularity` in Spotify translate to more artist `Followers`?\n",
    "  - Do YouTube `Views` translate to more `Subscribers`?\n",
    "\t\n",
    "\t\n",
    "2. __External (Cross platform)__\n",
    "\t\n",
    "  - Does `Popularity` in __Spotify__ correlate to more `Views` on __YouTube__ and vice versa?\n",
    "  - Do more artist `Followers` on __Spotify__ correlate to more `Subscribers` in __YouTube__  and vice versa?\n",
    "\t\n",
    "3. __Ranking__\n",
    "\n",
    "  - How does each artist fair in both music platforms (Spotify and YouTube)?"
   ]
  },
  {
   "cell_type": "markdown",
   "metadata": {
    "colab_type": "text",
    "id": "ALJS6D5W2zIx"
   },
   "source": [
    "# Methodology\n",
    "<br><br>\n",
    "<center><img src=\"https://drive.google.com/uc?export=view&id=1HTSLw4-wdgYa1ozGkW0oGCZbgSSnG1yA\"></center>\n",
    "<br>\n",
    "\n",
    "<font size = \"4\"><b><i>Notes on steps taken</i></b></font>\n",
    "\n",
    "<center><img src=\"https://i.scdn.co/image/ab67706f0000000244eb64ea6efb774c506764da\" width=\"400\"/></center>\n",
    "\n",
    "1. Spotify's official Top OPM Artists of 2019 was used as Spotify's ranking playlist is based on official performance of Filipino artists in Spotify.\n",
    "\n",
    "2. The YouTube channel/topic `id` was obtained manually considering the absence of a list of official channels.\n",
    "\n",
    "3. The rank was obtained for each platform using the pandas rank function and a dense method where no two items have the same rank."
   ]
  },
  {
   "cell_type": "markdown",
   "metadata": {
    "colab_type": "text",
    "id": "p3Ga0AZjWq96"
   },
   "source": [
    "**Libraries to use:**"
   ]
  },
  {
   "cell_type": "code",
   "execution_count": 1,
   "metadata": {
    "ExecuteTime": {
     "end_time": "2020-06-27T07:58:59.346232Z",
     "start_time": "2020-06-27T07:58:57.376946Z"
    },
    "colab": {},
    "colab_type": "code",
    "id": "73y1Kj39okHv"
   },
   "outputs": [],
   "source": [
    "import base64\n",
    "import requests\n",
    "import json\n",
    "import pandas as pd\n",
    "import sqlite3\n",
    "import matplotlib.pyplot as plt\n",
    "import seaborn as sns\n",
    "import itertools\n",
    "\n",
    "from scipy import stats\n",
    "from oauthlib.oauth2 import BackendApplicationClient\n",
    "from requests_oauthlib import OAuth2Session"
   ]
  },
  {
   "cell_type": "markdown",
   "metadata": {
    "colab_type": "text",
    "id": "VZjEZJiL22hy"
   },
   "source": [
    "## Get data from Spotify and YouTube through APIs"
   ]
  },
  {
   "cell_type": "markdown",
   "metadata": {
    "colab_type": "text",
    "id": "jnCggvJ8PbVL"
   },
   "source": [
    "### Spotify API"
   ]
  },
  {
   "cell_type": "code",
   "execution_count": 2,
   "metadata": {
    "ExecuteTime": {
     "end_time": "2020-06-27T07:58:59.701548Z",
     "start_time": "2020-06-27T07:58:59.349956Z"
    },
    "colab": {},
    "colab_type": "code",
    "id": "sN7iMooHnJ-q"
   },
   "outputs": [],
   "source": [
    "# Session Initialization\n",
    "client_id = 'c77a2189abd8401a9c933741606f190e'\n",
    "\n",
    "\n",
    "with open('spotify_secret.txt') as f:\n",
    "    spotify_secret = f.read().strip()\n",
    "\n",
    "credentials = str(base64.\n",
    "                  b64encode(f'{client_id}:{spotify_secret}'.encode('utf8')),\n",
    "                  'utf8')\n",
    "\n",
    "client = BackendApplicationClient(client_id=client_id)\n",
    "oauth = OAuth2Session(client=client)\n",
    "\n",
    "session = requests.Session()\n",
    "(session.post(\n",
    "    'https://accounts.spotify.com/api/token',\n",
    "    data=dict(\n",
    "    grant_type='client_credentials'\n",
    "    ),\n",
    "    headers=dict(\n",
    "        Authorization=f'Basic {credentials}'\n",
    "    )\n",
    "    ).text\n",
    ")\n",
    "token = oauth.fetch_token(\n",
    "    token_url='https://accounts.spotify.com/api/token', \n",
    "    client_id=client_id,\n",
    "    client_secret=spotify_secret)"
   ]
  },
  {
   "cell_type": "code",
   "execution_count": 3,
   "metadata": {
    "ExecuteTime": {
     "end_time": "2020-06-27T07:59:00.025799Z",
     "start_time": "2020-06-27T07:58:59.705514Z"
    },
    "colab": {},
    "colab_type": "code",
    "id": "UDXNbxWVowi1"
   },
   "outputs": [],
   "source": [
    "t100 = oauth.get(\n",
    "    'https://api.spotify.com/v1/playlists/37i9dQZF1DX5k7rLBXjRX0'\n",
    ").json()"
   ]
  },
  {
   "cell_type": "code",
   "execution_count": 4,
   "metadata": {
    "ExecuteTime": {
     "end_time": "2020-06-27T07:59:00.038795Z",
     "start_time": "2020-06-27T07:59:00.029473Z"
    },
    "colab": {},
    "colab_type": "code",
    "id": "oQtK2aTSppwb"
   },
   "outputs": [],
   "source": [
    "artists = []\n",
    "artists_href = []\n",
    "artists_id = []\n",
    "for i in range(len(t100['tracks']['items'])):\n",
    "    #loop values\n",
    "    artist = t100['tracks']['items'][i]['track']['artists'][0]['name']\n",
    "    href = t100['tracks']['items'][i]['track']['artists'][0]['href']\n",
    "    artist_id = t100['tracks']['items'][i]['track']['artists'][0]['id']\n",
    "    \n",
    "    # append lists and dictionaries\n",
    "    artists.append(artist)\n",
    "    artists_href.append(href)\n",
    "    artists_id.append(artist_id)"
   ]
  },
  {
   "cell_type": "code",
   "execution_count": 5,
   "metadata": {
    "ExecuteTime": {
     "end_time": "2020-06-27T07:59:01.727195Z",
     "start_time": "2020-06-27T07:59:00.044137Z"
    },
    "colab": {},
    "colab_type": "code",
    "id": "Z5g-9qAUrEBZ"
   },
   "outputs": [],
   "source": [
    "spotify_data = {}\n",
    "for i in artists_href:\n",
    "  conn = oauth.get(i).json()\n",
    "  name = conn['name']\n",
    "  popularity = conn['popularity']\n",
    "  followers = conn['followers']['total']\n",
    "  spotify_data[name] = {\"popularity\":popularity,\n",
    "                        \"followers\":followers}"
   ]
  },
  {
   "cell_type": "code",
   "execution_count": 6,
   "metadata": {
    "ExecuteTime": {
     "end_time": "2020-06-27T07:59:01.751796Z",
     "start_time": "2020-06-27T07:59:01.734126Z"
    },
    "colab": {},
    "colab_type": "code",
    "id": "6HdCncnOtfYX"
   },
   "outputs": [],
   "source": [
    "df_spotify = pd.DataFrame(spotify_data).transpose()\n",
    "df_spotify = df_spotify.reset_index().rename(columns = {'index':'artist'})"
   ]
  },
  {
   "cell_type": "markdown",
   "metadata": {
    "colab_type": "text",
    "id": "GxR4LOMDPwSB"
   },
   "source": [
    "### YouTube API"
   ]
  },
  {
   "cell_type": "code",
   "execution_count": 7,
   "metadata": {
    "ExecuteTime": {
     "end_time": "2020-06-27T07:59:01.758845Z",
     "start_time": "2020-06-27T07:59:01.754136Z"
    },
    "colab": {},
    "colab_type": "code",
    "id": "L2kXEJWHw97P"
   },
   "outputs": [],
   "source": [
    "with open('google_api.txt') as f:\n",
    "    api_key = f.read().strip()\n",
    "\n",
    "yt_endpoint = 'https://www.googleapis.com/youtube/v3/channels'"
   ]
  },
  {
   "cell_type": "code",
   "execution_count": 8,
   "metadata": {
    "ExecuteTime": {
     "end_time": "2020-06-27T07:59:01.766156Z",
     "start_time": "2020-06-27T07:59:01.760590Z"
    },
    "colab": {},
    "colab_type": "code",
    "id": "YMaKKhTmvrxD"
   },
   "outputs": [],
   "source": [
    "yt_ids = ['UCYSTwZZBbjUwUwEjODPr_tA', 'UCD2HT__OY6xzj-YbnAXJhfA',\n",
    "          'UCnOafy_XCtpz_EpLqVkgunQ', 'UC44SZjrxJe1_GXF2W00GtFA',\n",
    "          'UC4wIgalZ9x3kbgzyAE2SWLw', 'UCgOJARCmMX8DTk8QpkfB3rg',\n",
    "          'UCMQd4DbAa5ITi0yTmnpbYrw', 'UCzbiWVhzY6BNssUWdCKcH7g',\n",
    "          'UCjuiUoq_kGqsMFSQom1lvVQ', 'UCfNLP6sN6p-kH9VYzTZyvrA',\n",
    "          'UC95mjDUFh_WXjMXemzIGTVA', 'UCKwevOL1tzOUyER9WgVFHSw',\n",
    "          'UCy0REagpY7lYXOThlmCQJjg', 'UCMICTGmlWpf94O442Fc6VSw',\n",
    "          'UC5rR5ggQv81j7HsLUQOKsbA', 'UC6-RJsuJ4AdPGq0cTfueNMw',\n",
    "          'UCTvN35UwhN_CVyxf5zqIbeA', 'UCH9-oWOIU_Ior-bDuCUj40Q',\n",
    "          'UC0zX-T6nYV3mhAu0J3FLEkw', 'UCXDPZNH-eEXtrxr5Ert1LWQ',\n",
    "          'UCm3ls063K0DQTJrUJPqrcCQ', 'UCy-oKG3rKZL5OvOr8PST5JA',\n",
    "          'UCHEPO_OIR2PXN2fo6EnGJZA', 'UCqwhcgOK1fq9vFZ6URPBeFA',\n",
    "          'UCG6RuFghTrBJg0QM1tP3iiA', 'UCQYgsg0SHQ2Q6aw3DJz8-8g',\n",
    "          'UCnb-iW07GwMXaL6rWVLsEbQ', 'UCTQmi-iJlvJSWMnlRPMoKeA',\n",
    "          'UCc4KErEHzjP1TXuP3YC_frg', 'UCqi_z2Pfe1pqrl3QT5oFYaQ']"
   ]
  },
  {
   "cell_type": "code",
   "execution_count": 9,
   "metadata": {
    "ExecuteTime": {
     "end_time": "2020-06-27T07:59:07.356400Z",
     "start_time": "2020-06-27T07:59:01.767979Z"
    },
    "colab": {},
    "colab_type": "code",
    "id": "R9Eo8kVvwyRc"
   },
   "outputs": [],
   "source": [
    "yt_data = {}\n",
    "for i in yt_ids:\n",
    "    yt = requests.get(\n",
    "            yt_endpoint,\n",
    "            params=dict(\n",
    "                part='statistics, snippet',\n",
    "                id=i,\n",
    "                key=api_key)\n",
    "                     ).json()\n",
    "    \n",
    "    title = yt['items'][0]['snippet']['title']\n",
    "    vc = yt['items'][0]['statistics']['viewCount']\n",
    "    sc = yt['items'][0]['statistics']['subscriberCount']\n",
    "    \n",
    "    yt_data[title] = {'views': vc,\n",
    "                      'subscribers': sc}\n",
    "\n",
    "df_yt = pd.DataFrame(yt_data).transpose()\n",
    "df_yt = df_yt.reset_index().rename(columns = {'index':'artist'})"
   ]
  },
  {
   "cell_type": "code",
   "execution_count": 10,
   "metadata": {
    "ExecuteTime": {
     "end_time": "2020-06-27T07:59:07.364142Z",
     "start_time": "2020-06-27T07:59:07.359257Z"
    },
    "colab": {},
    "colab_type": "code",
    "id": "54SdRvhGAgS5"
   },
   "outputs": [],
   "source": [
    "yt_artists = list(df_yt['artist'])\n",
    "spot_artists = list(df_spotify['artist'])\n",
    "artist_match = dict(zip(spot_artists, yt_artists))"
   ]
  },
  {
   "cell_type": "code",
   "execution_count": 11,
   "metadata": {
    "ExecuteTime": {
     "end_time": "2020-06-27T07:59:08.084933Z",
     "start_time": "2020-06-27T07:59:07.365955Z"
    },
    "colab": {},
    "colab_type": "code",
    "id": "oOCrpC5L61Om"
   },
   "outputs": [],
   "source": [
    "artists = pd.DataFrame(artist_match.values(), index = artist_match.keys())\n",
    "artists = artists.reset_index().rename(columns = {'index': 'spotify',\n",
    "                                                  0:'youtube'})"
   ]
  },
  {
   "cell_type": "markdown",
   "metadata": {
    "colab_type": "text",
    "id": "ILlsVgIcQB55"
   },
   "source": [
    "## Store Obtained data in sqlite3 Database"
   ]
  },
  {
   "cell_type": "markdown",
   "metadata": {
    "colab_type": "text",
    "id": "I7PKOHIuQpEh"
   },
   "source": [
    "### Database Connection"
   ]
  },
  {
   "cell_type": "code",
   "execution_count": 12,
   "metadata": {
    "ExecuteTime": {
     "end_time": "2020-06-27T07:59:08.097567Z",
     "start_time": "2020-06-27T07:59:08.088734Z"
    },
    "colab": {},
    "colab_type": "code",
    "id": "bBbBAsJxEhEq"
   },
   "outputs": [],
   "source": [
    "# # Jojie sqlite db\n",
    "try:\n",
    "    conn = sqlite3.connect('/mnt/processed/private/msds2021/slt9b/DMW_MP2.db')\n",
    "\n",
    "except:\n",
    "    conn = sqlite3.connect('DMW_MP2.db')"
   ]
  },
  {
   "cell_type": "markdown",
   "metadata": {
    "colab_type": "text",
    "id": "dWqBv8pv7rKY"
   },
   "source": [
    "### Table Creation"
   ]
  },
  {
   "cell_type": "code",
   "execution_count": 13,
   "metadata": {
    "ExecuteTime": {
     "end_time": "2020-06-27T07:59:08.201294Z",
     "start_time": "2020-06-27T07:59:08.101654Z"
    },
    "colab": {},
    "colab_type": "code",
    "id": "tjgh32ck76Tc"
   },
   "outputs": [],
   "source": [
    "with conn:\n",
    "    try:\n",
    "        df_spotify.to_sql('spotify', conn)\n",
    "    except:\n",
    "        pass\n",
    "    \n",
    "    try:\n",
    "        df_yt.to_sql('youtube', conn)\n",
    "    except:\n",
    "        pass\n",
    "    \n",
    "    try:\n",
    "        artists.to_sql('artists', conn)\n",
    "    except:\n",
    "        pass"
   ]
  },
  {
   "cell_type": "markdown",
   "metadata": {
    "colab_type": "text",
    "id": "pdy5vHKnRVhx"
   },
   "source": [
    "### Database Query"
   ]
  },
  {
   "cell_type": "code",
   "execution_count": 14,
   "metadata": {
    "ExecuteTime": {
     "end_time": "2020-06-27T07:59:08.222520Z",
     "start_time": "2020-06-27T07:59:08.204119Z"
    },
    "colab": {},
    "colab_type": "code",
    "id": "M2EYnOfy65H3"
   },
   "outputs": [],
   "source": [
    "query_yt = '''\n",
    "SELECT * FROM youtube'''\n",
    "query_spot = '''\n",
    "SELECT * FROM spotify'''\n",
    "query_match = '''\n",
    "SELECT * FROM artists'''\n",
    "\n",
    "youtube = pd.read_sql(query_yt, conn, index_col = 'index')\n",
    "spotify = pd.read_sql(query_spot, conn, index_col = 'index')\n",
    "match = pd.read_sql(query_match, conn, index_col = 'index')"
   ]
  },
  {
   "cell_type": "markdown",
   "metadata": {
    "colab_type": "text",
    "id": "PbHmd45t-PQi"
   },
   "source": [
    "# Exploratory Data Analysis"
   ]
  },
  {
   "cell_type": "markdown",
   "metadata": {
    "colab_type": "text",
    "id": "3P16axNcgtFw"
   },
   "source": [
    "## Top Level Exploratory Data Analysis for Spotify Data"
   ]
  },
  {
   "cell_type": "code",
   "execution_count": 15,
   "metadata": {
    "ExecuteTime": {
     "end_time": "2020-06-27T07:59:08.246943Z",
     "start_time": "2020-06-27T07:59:08.225100Z"
    },
    "colab": {
     "base_uri": "https://localhost:8080/",
     "height": 223
    },
    "colab_type": "code",
    "id": "naitw0feq-5w",
    "outputId": "5167c4ee-cc36-422b-d52d-53978c2d8ac3"
   },
   "outputs": [
    {
     "data": {
      "text/html": [
       "<div>\n",
       "<style scoped>\n",
       "    .dataframe tbody tr th:only-of-type {\n",
       "        vertical-align: middle;\n",
       "    }\n",
       "\n",
       "    .dataframe tbody tr th {\n",
       "        vertical-align: top;\n",
       "    }\n",
       "\n",
       "    .dataframe thead th {\n",
       "        text-align: right;\n",
       "    }\n",
       "</style>\n",
       "<table border=\"1\" class=\"dataframe\">\n",
       "  <thead>\n",
       "    <tr style=\"text-align: right;\">\n",
       "      <th></th>\n",
       "      <th>artist</th>\n",
       "      <th>popularity</th>\n",
       "      <th>followers</th>\n",
       "    </tr>\n",
       "    <tr>\n",
       "      <th>index</th>\n",
       "      <th></th>\n",
       "      <th></th>\n",
       "      <th></th>\n",
       "    </tr>\n",
       "  </thead>\n",
       "  <tbody>\n",
       "    <tr>\n",
       "      <th>0</th>\n",
       "      <td>Ben&amp;Ben</td>\n",
       "      <td>76</td>\n",
       "      <td>1812303</td>\n",
       "    </tr>\n",
       "    <tr>\n",
       "      <th>1</th>\n",
       "      <td>Moira Dela Torre</td>\n",
       "      <td>71</td>\n",
       "      <td>4680918</td>\n",
       "    </tr>\n",
       "    <tr>\n",
       "      <th>2</th>\n",
       "      <td>December Avenue</td>\n",
       "      <td>68</td>\n",
       "      <td>2992407</td>\n",
       "    </tr>\n",
       "    <tr>\n",
       "      <th>3</th>\n",
       "      <td>Parokya Ni Edgar</td>\n",
       "      <td>67</td>\n",
       "      <td>1916843</td>\n",
       "    </tr>\n",
       "    <tr>\n",
       "      <th>4</th>\n",
       "      <td>Eraserheads</td>\n",
       "      <td>67</td>\n",
       "      <td>1446786</td>\n",
       "    </tr>\n",
       "  </tbody>\n",
       "</table>\n",
       "</div>"
      ],
      "text/plain": [
       "                 artist  popularity  followers\n",
       "index                                         \n",
       "0               Ben&Ben          76    1812303\n",
       "1      Moira Dela Torre          71    4680918\n",
       "2       December Avenue          68    2992407\n",
       "3      Parokya Ni Edgar          67    1916843\n",
       "4           Eraserheads          67    1446786"
      ]
     },
     "execution_count": 15,
     "metadata": {},
     "output_type": "execute_result"
    }
   ],
   "source": [
    "spotify.head()"
   ]
  },
  {
   "cell_type": "code",
   "execution_count": 16,
   "metadata": {
    "ExecuteTime": {
     "end_time": "2020-06-27T07:59:08.287944Z",
     "start_time": "2020-06-27T07:59:08.249016Z"
    },
    "colab": {
     "base_uri": "https://localhost:8080/",
     "height": 282
    },
    "colab_type": "code",
    "id": "4XWH4TeL8Zx2",
    "outputId": "141b08bc-ff65-462d-ba29-40b515604ac4"
   },
   "outputs": [
    {
     "data": {
      "text/html": [
       "<div>\n",
       "<style scoped>\n",
       "    .dataframe tbody tr th:only-of-type {\n",
       "        vertical-align: middle;\n",
       "    }\n",
       "\n",
       "    .dataframe tbody tr th {\n",
       "        vertical-align: top;\n",
       "    }\n",
       "\n",
       "    .dataframe thead th {\n",
       "        text-align: right;\n",
       "    }\n",
       "</style>\n",
       "<table border=\"1\" class=\"dataframe\">\n",
       "  <thead>\n",
       "    <tr style=\"text-align: right;\">\n",
       "      <th></th>\n",
       "      <th>popularity</th>\n",
       "      <th>followers</th>\n",
       "    </tr>\n",
       "  </thead>\n",
       "  <tbody>\n",
       "    <tr>\n",
       "      <th>count</th>\n",
       "      <td>30.000000</td>\n",
       "      <td>3.000000e+01</td>\n",
       "    </tr>\n",
       "    <tr>\n",
       "      <th>mean</th>\n",
       "      <td>62.200000</td>\n",
       "      <td>1.081320e+06</td>\n",
       "    </tr>\n",
       "    <tr>\n",
       "      <th>std</th>\n",
       "      <td>4.641641</td>\n",
       "      <td>9.624223e+05</td>\n",
       "    </tr>\n",
       "    <tr>\n",
       "      <th>min</th>\n",
       "      <td>52.000000</td>\n",
       "      <td>3.355000e+03</td>\n",
       "    </tr>\n",
       "    <tr>\n",
       "      <th>25%</th>\n",
       "      <td>59.250000</td>\n",
       "      <td>5.009338e+05</td>\n",
       "    </tr>\n",
       "    <tr>\n",
       "      <th>50%</th>\n",
       "      <td>61.500000</td>\n",
       "      <td>8.607570e+05</td>\n",
       "    </tr>\n",
       "    <tr>\n",
       "      <th>75%</th>\n",
       "      <td>64.000000</td>\n",
       "      <td>1.543473e+06</td>\n",
       "    </tr>\n",
       "    <tr>\n",
       "      <th>max</th>\n",
       "      <td>76.000000</td>\n",
       "      <td>4.680918e+06</td>\n",
       "    </tr>\n",
       "  </tbody>\n",
       "</table>\n",
       "</div>"
      ],
      "text/plain": [
       "       popularity     followers\n",
       "count   30.000000  3.000000e+01\n",
       "mean    62.200000  1.081320e+06\n",
       "std      4.641641  9.624223e+05\n",
       "min     52.000000  3.355000e+03\n",
       "25%     59.250000  5.009338e+05\n",
       "50%     61.500000  8.607570e+05\n",
       "75%     64.000000  1.543473e+06\n",
       "max     76.000000  4.680918e+06"
      ]
     },
     "execution_count": 16,
     "metadata": {},
     "output_type": "execute_result"
    }
   ],
   "source": [
    "spotify.describe()"
   ]
  },
  {
   "cell_type": "code",
   "execution_count": 17,
   "metadata": {
    "ExecuteTime": {
     "end_time": "2020-06-27T07:59:08.338062Z",
     "start_time": "2020-06-27T07:59:08.290403Z"
    },
    "colab": {
     "base_uri": "https://localhost:8080/",
     "height": 956
    },
    "colab_type": "code",
    "id": "7o2UGki0CD8i",
    "outputId": "90b2c15d-2ef6-4115-9c39-d4ff3d38475d"
   },
   "outputs": [
    {
     "data": {
      "text/html": [
       "<div>\n",
       "<style scoped>\n",
       "    .dataframe tbody tr th:only-of-type {\n",
       "        vertical-align: middle;\n",
       "    }\n",
       "\n",
       "    .dataframe tbody tr th {\n",
       "        vertical-align: top;\n",
       "    }\n",
       "\n",
       "    .dataframe thead th {\n",
       "        text-align: right;\n",
       "    }\n",
       "</style>\n",
       "<table border=\"1\" class=\"dataframe\">\n",
       "  <thead>\n",
       "    <tr style=\"text-align: right;\">\n",
       "      <th></th>\n",
       "      <th>artist</th>\n",
       "      <th>popularity</th>\n",
       "      <th>followers</th>\n",
       "      <th>followers(%)</th>\n",
       "    </tr>\n",
       "    <tr>\n",
       "      <th>index</th>\n",
       "      <th></th>\n",
       "      <th></th>\n",
       "      <th></th>\n",
       "      <th></th>\n",
       "    </tr>\n",
       "  </thead>\n",
       "  <tbody>\n",
       "    <tr>\n",
       "      <th>0</th>\n",
       "      <td>Ben&amp;Ben</td>\n",
       "      <td>76</td>\n",
       "      <td>1812303</td>\n",
       "      <td>5.586699</td>\n",
       "    </tr>\n",
       "    <tr>\n",
       "      <th>1</th>\n",
       "      <td>Moira Dela Torre</td>\n",
       "      <td>71</td>\n",
       "      <td>4680918</td>\n",
       "      <td>14.429639</td>\n",
       "    </tr>\n",
       "    <tr>\n",
       "      <th>2</th>\n",
       "      <td>December Avenue</td>\n",
       "      <td>68</td>\n",
       "      <td>2992407</td>\n",
       "      <td>9.224548</td>\n",
       "    </tr>\n",
       "    <tr>\n",
       "      <th>3</th>\n",
       "      <td>Parokya Ni Edgar</td>\n",
       "      <td>67</td>\n",
       "      <td>1916843</td>\n",
       "      <td>5.908959</td>\n",
       "    </tr>\n",
       "    <tr>\n",
       "      <th>4</th>\n",
       "      <td>Eraserheads</td>\n",
       "      <td>67</td>\n",
       "      <td>1446786</td>\n",
       "      <td>4.459937</td>\n",
       "    </tr>\n",
       "    <tr>\n",
       "      <th>5</th>\n",
       "      <td>MYMP</td>\n",
       "      <td>65</td>\n",
       "      <td>544994</td>\n",
       "      <td>1.680027</td>\n",
       "    </tr>\n",
       "    <tr>\n",
       "      <th>6</th>\n",
       "      <td>Skusta Clee</td>\n",
       "      <td>65</td>\n",
       "      <td>315101</td>\n",
       "      <td>0.971347</td>\n",
       "    </tr>\n",
       "    <tr>\n",
       "      <th>7</th>\n",
       "      <td>Sarah Geronimo</td>\n",
       "      <td>64</td>\n",
       "      <td>1941708</td>\n",
       "      <td>5.985609</td>\n",
       "    </tr>\n",
       "    <tr>\n",
       "      <th>8</th>\n",
       "      <td>Silent Sanctuary</td>\n",
       "      <td>64</td>\n",
       "      <td>1734337</td>\n",
       "      <td>5.346357</td>\n",
       "    </tr>\n",
       "    <tr>\n",
       "      <th>9</th>\n",
       "      <td>ALLMO$T</td>\n",
       "      <td>63</td>\n",
       "      <td>476108</td>\n",
       "      <td>1.467675</td>\n",
       "    </tr>\n",
       "    <tr>\n",
       "      <th>10</th>\n",
       "      <td>I Belong to the Zoo</td>\n",
       "      <td>63</td>\n",
       "      <td>1039920</td>\n",
       "      <td>3.205711</td>\n",
       "    </tr>\n",
       "    <tr>\n",
       "      <th>11</th>\n",
       "      <td>Regine Velasquez</td>\n",
       "      <td>63</td>\n",
       "      <td>869311</td>\n",
       "      <td>2.679783</td>\n",
       "    </tr>\n",
       "    <tr>\n",
       "      <th>12</th>\n",
       "      <td>Ex Battalion</td>\n",
       "      <td>63</td>\n",
       "      <td>1597508</td>\n",
       "      <td>4.924561</td>\n",
       "    </tr>\n",
       "    <tr>\n",
       "      <th>13</th>\n",
       "      <td>Rivermaya</td>\n",
       "      <td>62</td>\n",
       "      <td>852203</td>\n",
       "      <td>2.627045</td>\n",
       "    </tr>\n",
       "    <tr>\n",
       "      <th>14</th>\n",
       "      <td>Michael Pangilinan</td>\n",
       "      <td>62</td>\n",
       "      <td>987196</td>\n",
       "      <td>3.043181</td>\n",
       "    </tr>\n",
       "    <tr>\n",
       "      <th>15</th>\n",
       "      <td>Hale</td>\n",
       "      <td>61</td>\n",
       "      <td>489962</td>\n",
       "      <td>1.510382</td>\n",
       "    </tr>\n",
       "    <tr>\n",
       "      <th>16</th>\n",
       "      <td>John Roa</td>\n",
       "      <td>61</td>\n",
       "      <td>667247</td>\n",
       "      <td>2.056890</td>\n",
       "    </tr>\n",
       "    <tr>\n",
       "      <th>17</th>\n",
       "      <td>Kamikazee</td>\n",
       "      <td>61</td>\n",
       "      <td>608697</td>\n",
       "      <td>1.876401</td>\n",
       "    </tr>\n",
       "    <tr>\n",
       "      <th>18</th>\n",
       "      <td>This Band</td>\n",
       "      <td>61</td>\n",
       "      <td>1105071</td>\n",
       "      <td>3.406549</td>\n",
       "    </tr>\n",
       "    <tr>\n",
       "      <th>19</th>\n",
       "      <td>IV Of Spades</td>\n",
       "      <td>61</td>\n",
       "      <td>1222435</td>\n",
       "      <td>3.768341</td>\n",
       "    </tr>\n",
       "    <tr>\n",
       "      <th>20</th>\n",
       "      <td>Yeng Constantino</td>\n",
       "      <td>60</td>\n",
       "      <td>1575702</td>\n",
       "      <td>4.857340</td>\n",
       "    </tr>\n",
       "    <tr>\n",
       "      <th>21</th>\n",
       "      <td>Mayonnaise</td>\n",
       "      <td>60</td>\n",
       "      <td>441884</td>\n",
       "      <td>1.362174</td>\n",
       "    </tr>\n",
       "    <tr>\n",
       "      <th>22</th>\n",
       "      <td>Callalily</td>\n",
       "      <td>59</td>\n",
       "      <td>797828</td>\n",
       "      <td>2.459426</td>\n",
       "    </tr>\n",
       "    <tr>\n",
       "      <th>23</th>\n",
       "      <td>juan karlos</td>\n",
       "      <td>59</td>\n",
       "      <td>533849</td>\n",
       "      <td>1.645670</td>\n",
       "    </tr>\n",
       "    <tr>\n",
       "      <th>24</th>\n",
       "      <td>Because</td>\n",
       "      <td>59</td>\n",
       "      <td>248015</td>\n",
       "      <td>0.764544</td>\n",
       "    </tr>\n",
       "    <tr>\n",
       "      <th>25</th>\n",
       "      <td>Up Dharma Down</td>\n",
       "      <td>58</td>\n",
       "      <td>571130</td>\n",
       "      <td>1.760595</td>\n",
       "    </tr>\n",
       "    <tr>\n",
       "      <th>26</th>\n",
       "      <td>Shanti Dope</td>\n",
       "      <td>58</td>\n",
       "      <td>874356</td>\n",
       "      <td>2.695335</td>\n",
       "    </tr>\n",
       "    <tr>\n",
       "      <th>27</th>\n",
       "      <td>PDL</td>\n",
       "      <td>57</td>\n",
       "      <td>85505</td>\n",
       "      <td>0.263582</td>\n",
       "    </tr>\n",
       "    <tr>\n",
       "      <th>28</th>\n",
       "      <td>Jason Marvin</td>\n",
       "      <td>56</td>\n",
       "      <td>3355</td>\n",
       "      <td>0.010342</td>\n",
       "    </tr>\n",
       "    <tr>\n",
       "      <th>29</th>\n",
       "      <td>Jnske</td>\n",
       "      <td>52</td>\n",
       "      <td>6926</td>\n",
       "      <td>0.021350</td>\n",
       "    </tr>\n",
       "  </tbody>\n",
       "</table>\n",
       "</div>"
      ],
      "text/plain": [
       "                    artist  popularity  followers  followers(%)\n",
       "index                                                          \n",
       "0                  Ben&Ben          76    1812303      5.586699\n",
       "1         Moira Dela Torre          71    4680918     14.429639\n",
       "2          December Avenue          68    2992407      9.224548\n",
       "3         Parokya Ni Edgar          67    1916843      5.908959\n",
       "4              Eraserheads          67    1446786      4.459937\n",
       "5                     MYMP          65     544994      1.680027\n",
       "6              Skusta Clee          65     315101      0.971347\n",
       "7           Sarah Geronimo          64    1941708      5.985609\n",
       "8         Silent Sanctuary          64    1734337      5.346357\n",
       "9                  ALLMO$T          63     476108      1.467675\n",
       "10     I Belong to the Zoo          63    1039920      3.205711\n",
       "11        Regine Velasquez          63     869311      2.679783\n",
       "12            Ex Battalion          63    1597508      4.924561\n",
       "13               Rivermaya          62     852203      2.627045\n",
       "14      Michael Pangilinan          62     987196      3.043181\n",
       "15                    Hale          61     489962      1.510382\n",
       "16                John Roa          61     667247      2.056890\n",
       "17               Kamikazee          61     608697      1.876401\n",
       "18               This Band          61    1105071      3.406549\n",
       "19            IV Of Spades          61    1222435      3.768341\n",
       "20        Yeng Constantino          60    1575702      4.857340\n",
       "21              Mayonnaise          60     441884      1.362174\n",
       "22               Callalily          59     797828      2.459426\n",
       "23             juan karlos          59     533849      1.645670\n",
       "24                 Because          59     248015      0.764544\n",
       "25          Up Dharma Down          58     571130      1.760595\n",
       "26             Shanti Dope          58     874356      2.695335\n",
       "27                     PDL          57      85505      0.263582\n",
       "28            Jason Marvin          56       3355      0.010342\n",
       "29                   Jnske          52       6926      0.021350"
      ]
     },
     "execution_count": 17,
     "metadata": {},
     "output_type": "execute_result"
    }
   ],
   "source": [
    "spotify['followers(%)'] = (spotify['followers']/\n",
    "                           (spotify['followers'].sum())*100)\n",
    "\n",
    "spotify"
   ]
  },
  {
   "cell_type": "code",
   "execution_count": 18,
   "metadata": {
    "ExecuteTime": {
     "end_time": "2020-06-27T07:59:09.323072Z",
     "start_time": "2020-06-27T07:59:08.339935Z"
    },
    "colab": {
     "base_uri": "https://localhost:8080/",
     "height": 1000
    },
    "colab_type": "code",
    "id": "cq6IX8XorGT9",
    "outputId": "410a7851-6732-4318-bb8f-8dc10f813c64"
   },
   "outputs": [
    {
     "data": {
      "image/png": "[encoded data removed]",
      "text/plain": [
       "<Figure size 864x1800 with 2 Axes>"
      ]
     },
     "metadata": {
      "needs_background": "light"
     },
     "output_type": "display_data"
    }
   ],
   "source": [
    "f, axes = plt.subplots(2, 1, figsize=(12, 25))\n",
    "\n",
    "with sns.axes_style(\"darkgrid\"):\n",
    "    sns.set()\n",
    "    sns.set(font_scale = 1)\n",
    "    spotify_pop = sns.barplot(y=\"artist\", x=\"popularity\", \n",
    "                              data=spotify.sort_values(by='popularity', \n",
    "                                                       ascending=False),\n",
    "                              ax=axes[0])\n",
    "    spotify_pop.set_title('Popularity of OPM Artists in Spotify',size = 16)\n",
    "    spotify_pop.set(ylabel=\"Name of Artist\", xlabel = \"Rank\")\n",
    "    spotify_pop.grid(b=True)\n",
    "\n",
    "\n",
    "    for p in spotify_pop.patches:\n",
    "        width = p.get_width()\n",
    "        spotify_pop.text(width -0.1  ,\n",
    "                p.get_y()+p.get_height()/2. + 0.2,\n",
    "                '{}'.format(int(width)),\n",
    "                ha=\"left\")\n",
    "\n",
    "\n",
    "    spotify_followers = sns.barplot(y=\"artist\", x=\"followers\",\n",
    "                                    data= spotify.sort_values(by='followers',\n",
    "                                                              ascending=False),\n",
    "                                    ax=axes[1])\n",
    "    spotify_followers.set_title('Follower Count of OPM Artists in Spotify',\n",
    "                                size =16)\n",
    "    spotify_followers.set(ylabel=\"Name of Artist\",\n",
    "                          xlabel = \"Count per Million (1 000 000)\")\n",
    "    spotify_followers.set_xlim(0,5_500_000)\n",
    "    spotify_followers.grid(b=True)\n",
    "\n",
    "    for p in spotify_followers.patches:\n",
    "        width = p.get_width()\n",
    "        spotify_followers.text(width -0.1,\n",
    "                p.get_y() + p.get_height()/2 + 0.2,\n",
    "                '{}'.format(int(width)),\n",
    "                ha=\"left\")\n",
    "    plt.subplots_adjust(hspace = 0.2)\n",
    "    plt.show()"
   ]
  },
  {
   "cell_type": "markdown",
   "metadata": {
    "colab_type": "text",
    "id": "hQMCr_mDETKJ"
   },
   "source": [
    "Observations:\n",
    "\n",
    "- The artists fall between the __50 – 75 range__ in terms of __popularity__ in Spotify with __Ben&Ben__ leading at rank 71 and __Jnske__ lagging behind at rank 52.\n",
    "- The disparity in follower count is evident in Spotify. __Moira Dela Torre__ leads the bunch with 14% of the total follower count and __Jason Marvin__ at the bottom with 0.02%.\n",
    "\n"
   ]
  },
  {
   "cell_type": "markdown",
   "metadata": {
    "colab_type": "text",
    "id": "U1KSy4epJWEn"
   },
   "source": [
    "## Top Level Exploratory Data Analysis for YouTube Data"
   ]
  },
  {
   "cell_type": "code",
   "execution_count": 19,
   "metadata": {
    "ExecuteTime": {
     "end_time": "2020-06-27T07:59:09.337760Z",
     "start_time": "2020-06-27T07:59:09.326353Z"
    },
    "colab": {
     "base_uri": "https://localhost:8080/",
     "height": 195
    },
    "colab_type": "code",
    "id": "Q0O8UoJLs98v",
    "outputId": "317af79b-10ca-4813-fbe8-716ceb96727f"
   },
   "outputs": [
    {
     "name": "stdout",
     "output_type": "stream",
     "text": [
      "<class 'pandas.core.frame.DataFrame'>\n",
      "Int64Index: 30 entries, 0 to 29\n",
      "Data columns (total 3 columns):\n",
      " #   Column       Non-Null Count  Dtype \n",
      "---  ------       --------------  ----- \n",
      " 0   artist       30 non-null     object\n",
      " 1   views        30 non-null     object\n",
      " 2   subscribers  30 non-null     object\n",
      "dtypes: object(3)\n",
      "memory usage: 960.0+ bytes\n"
     ]
    }
   ],
   "source": [
    "youtube.info()"
   ]
  },
  {
   "cell_type": "markdown",
   "metadata": {
    "colab_type": "text",
    "id": "bBqN-Khp7-_E"
   },
   "source": [
    "Views and subscribers in the dataframe are stored as string data. We need to convert them to integer format in order to sort artists by views and subscribers. "
   ]
  },
  {
   "cell_type": "code",
   "execution_count": 20,
   "metadata": {
    "ExecuteTime": {
     "end_time": "2020-06-27T07:59:09.347400Z",
     "start_time": "2020-06-27T07:59:09.340709Z"
    },
    "colab": {},
    "colab_type": "code",
    "id": "3S6R8qZV63OP"
   },
   "outputs": [],
   "source": [
    "youtube = youtube.astype({\"views\": int, \"subscribers\": int}) "
   ]
  },
  {
   "cell_type": "code",
   "execution_count": 21,
   "metadata": {
    "ExecuteTime": {
     "end_time": "2020-06-27T07:59:09.363089Z",
     "start_time": "2020-06-27T07:59:09.350982Z"
    },
    "colab": {
     "base_uri": "https://localhost:8080/",
     "height": 195
    },
    "colab_type": "code",
    "id": "BDDvXmiy7IQB",
    "outputId": "ca8584f1-e462-4ea6-897e-364b37f81c7e"
   },
   "outputs": [
    {
     "name": "stdout",
     "output_type": "stream",
     "text": [
      "<class 'pandas.core.frame.DataFrame'>\n",
      "Int64Index: 30 entries, 0 to 29\n",
      "Data columns (total 3 columns):\n",
      " #   Column       Non-Null Count  Dtype \n",
      "---  ------       --------------  ----- \n",
      " 0   artist       30 non-null     object\n",
      " 1   views        30 non-null     int64 \n",
      " 2   subscribers  30 non-null     int64 \n",
      "dtypes: int64(2), object(1)\n",
      "memory usage: 960.0+ bytes\n"
     ]
    }
   ],
   "source": [
    "youtube.info()"
   ]
  },
  {
   "cell_type": "code",
   "execution_count": 22,
   "metadata": {
    "ExecuteTime": {
     "end_time": "2020-06-27T07:59:09.388305Z",
     "start_time": "2020-06-27T07:59:09.366262Z"
    },
    "colab": {
     "base_uri": "https://localhost:8080/",
     "height": 956
    },
    "colab_type": "code",
    "id": "3hZoGxn-Ci0q",
    "outputId": "340e23ff-a932-4044-fee1-5e16a42fb0ff"
   },
   "outputs": [
    {
     "data": {
      "text/html": [
       "<div>\n",
       "<style scoped>\n",
       "    .dataframe tbody tr th:only-of-type {\n",
       "        vertical-align: middle;\n",
       "    }\n",
       "\n",
       "    .dataframe tbody tr th {\n",
       "        vertical-align: top;\n",
       "    }\n",
       "\n",
       "    .dataframe thead th {\n",
       "        text-align: right;\n",
       "    }\n",
       "</style>\n",
       "<table border=\"1\" class=\"dataframe\">\n",
       "  <thead>\n",
       "    <tr style=\"text-align: right;\">\n",
       "      <th></th>\n",
       "      <th>artist</th>\n",
       "      <th>views</th>\n",
       "      <th>subscribers</th>\n",
       "      <th>views(%)</th>\n",
       "      <th>subscribers(%)</th>\n",
       "    </tr>\n",
       "    <tr>\n",
       "      <th>index</th>\n",
       "      <th></th>\n",
       "      <th></th>\n",
       "      <th></th>\n",
       "      <th></th>\n",
       "      <th></th>\n",
       "    </tr>\n",
       "  </thead>\n",
       "  <tbody>\n",
       "    <tr>\n",
       "      <th>0</th>\n",
       "      <td>December Avenue</td>\n",
       "      <td>23849952</td>\n",
       "      <td>36600</td>\n",
       "      <td>1.038787</td>\n",
       "      <td>0.335100</td>\n",
       "    </tr>\n",
       "    <tr>\n",
       "      <th>1</th>\n",
       "      <td>Ben&amp;Ben</td>\n",
       "      <td>100462432</td>\n",
       "      <td>919000</td>\n",
       "      <td>4.375652</td>\n",
       "      <td>8.414133</td>\n",
       "    </tr>\n",
       "    <tr>\n",
       "      <th>2</th>\n",
       "      <td>Moira Dela Torre</td>\n",
       "      <td>32126025</td>\n",
       "      <td>572000</td>\n",
       "      <td>1.399253</td>\n",
       "      <td>5.237088</td>\n",
       "    </tr>\n",
       "    <tr>\n",
       "      <th>3</th>\n",
       "      <td>This Band</td>\n",
       "      <td>1156303</td>\n",
       "      <td>21600</td>\n",
       "      <td>0.050363</td>\n",
       "      <td>0.197764</td>\n",
       "    </tr>\n",
       "    <tr>\n",
       "      <th>4</th>\n",
       "      <td>I Belong to the Zoo</td>\n",
       "      <td>181123724</td>\n",
       "      <td>509000</td>\n",
       "      <td>7.888864</td>\n",
       "      <td>4.660276</td>\n",
       "    </tr>\n",
       "    <tr>\n",
       "      <th>5</th>\n",
       "      <td>Skusta Clee</td>\n",
       "      <td>17811116</td>\n",
       "      <td>75600</td>\n",
       "      <td>0.775765</td>\n",
       "      <td>0.692175</td>\n",
       "    </tr>\n",
       "    <tr>\n",
       "      <th>6</th>\n",
       "      <td>Parokya ni Edgar - Topic</td>\n",
       "      <td>8003115</td>\n",
       "      <td>87200</td>\n",
       "      <td>0.348577</td>\n",
       "      <td>0.798381</td>\n",
       "    </tr>\n",
       "    <tr>\n",
       "      <th>7</th>\n",
       "      <td>Silent Sanctuary Official</td>\n",
       "      <td>4426687</td>\n",
       "      <td>119000</td>\n",
       "      <td>0.192805</td>\n",
       "      <td>1.089534</td>\n",
       "    </tr>\n",
       "    <tr>\n",
       "      <th>8</th>\n",
       "      <td>Panty Droppaz League</td>\n",
       "      <td>337292688</td>\n",
       "      <td>698000</td>\n",
       "      <td>14.690820</td>\n",
       "      <td>6.390712</td>\n",
       "    </tr>\n",
       "    <tr>\n",
       "      <th>9</th>\n",
       "      <td>ALLMOST Music</td>\n",
       "      <td>69672308</td>\n",
       "      <td>352000</td>\n",
       "      <td>3.034585</td>\n",
       "      <td>3.222823</td>\n",
       "    </tr>\n",
       "    <tr>\n",
       "      <th>10</th>\n",
       "      <td>Eraserheads - Topic</td>\n",
       "      <td>25347219</td>\n",
       "      <td>46600</td>\n",
       "      <td>1.104001</td>\n",
       "      <td>0.426658</td>\n",
       "    </tr>\n",
       "    <tr>\n",
       "      <th>11</th>\n",
       "      <td>IV OF SPADES</td>\n",
       "      <td>56413808</td>\n",
       "      <td>502000</td>\n",
       "      <td>2.457110</td>\n",
       "      <td>4.596186</td>\n",
       "    </tr>\n",
       "    <tr>\n",
       "      <th>12</th>\n",
       "      <td>JuanKarlosLabajoVEVO</td>\n",
       "      <td>167021894</td>\n",
       "      <td>380000</td>\n",
       "      <td>7.274657</td>\n",
       "      <td>3.479184</td>\n",
       "    </tr>\n",
       "    <tr>\n",
       "      <th>13</th>\n",
       "      <td>Sarah Geronimo</td>\n",
       "      <td>19732520</td>\n",
       "      <td>236000</td>\n",
       "      <td>0.859452</td>\n",
       "      <td>2.160757</td>\n",
       "    </tr>\n",
       "    <tr>\n",
       "      <th>14</th>\n",
       "      <td>Callalily Music</td>\n",
       "      <td>30351583</td>\n",
       "      <td>81100</td>\n",
       "      <td>1.321967</td>\n",
       "      <td>0.742531</td>\n",
       "    </tr>\n",
       "    <tr>\n",
       "      <th>15</th>\n",
       "      <td>MYMP OFFICIAL</td>\n",
       "      <td>2782617</td>\n",
       "      <td>70600</td>\n",
       "      <td>0.121197</td>\n",
       "      <td>0.646396</td>\n",
       "    </tr>\n",
       "    <tr>\n",
       "      <th>16</th>\n",
       "      <td>Michael Pangilinan (Official)</td>\n",
       "      <td>193189998</td>\n",
       "      <td>1030000</td>\n",
       "      <td>8.414412</td>\n",
       "      <td>9.430421</td>\n",
       "    </tr>\n",
       "    <tr>\n",
       "      <th>17</th>\n",
       "      <td>Hale Music</td>\n",
       "      <td>6257581</td>\n",
       "      <td>47900</td>\n",
       "      <td>0.272550</td>\n",
       "      <td>0.438560</td>\n",
       "    </tr>\n",
       "    <tr>\n",
       "      <th>18</th>\n",
       "      <td>Jason Marvin</td>\n",
       "      <td>1445675</td>\n",
       "      <td>70100</td>\n",
       "      <td>0.062967</td>\n",
       "      <td>0.641818</td>\n",
       "    </tr>\n",
       "    <tr>\n",
       "      <th>19</th>\n",
       "      <td>Ex Battalion Music</td>\n",
       "      <td>819934600</td>\n",
       "      <td>2810000</td>\n",
       "      <td>35.712342</td>\n",
       "      <td>25.727653</td>\n",
       "    </tr>\n",
       "    <tr>\n",
       "      <th>20</th>\n",
       "      <td>Yeng Constantino</td>\n",
       "      <td>28378863</td>\n",
       "      <td>1030000</td>\n",
       "      <td>1.236045</td>\n",
       "      <td>9.430421</td>\n",
       "    </tr>\n",
       "    <tr>\n",
       "      <th>21</th>\n",
       "      <td>Jnske Official</td>\n",
       "      <td>30433523</td>\n",
       "      <td>97400</td>\n",
       "      <td>1.325535</td>\n",
       "      <td>0.891770</td>\n",
       "    </tr>\n",
       "    <tr>\n",
       "      <th>22</th>\n",
       "      <td>Mayonnaise PH</td>\n",
       "      <td>33727296</td>\n",
       "      <td>198000</td>\n",
       "      <td>1.468996</td>\n",
       "      <td>1.812838</td>\n",
       "    </tr>\n",
       "    <tr>\n",
       "      <th>23</th>\n",
       "      <td>UDDTV</td>\n",
       "      <td>6768275</td>\n",
       "      <td>28300</td>\n",
       "      <td>0.294793</td>\n",
       "      <td>0.259108</td>\n",
       "    </tr>\n",
       "    <tr>\n",
       "      <th>24</th>\n",
       "      <td>Regine Velasquez</td>\n",
       "      <td>9023207</td>\n",
       "      <td>472000</td>\n",
       "      <td>0.393007</td>\n",
       "      <td>4.321513</td>\n",
       "    </tr>\n",
       "    <tr>\n",
       "      <th>25</th>\n",
       "      <td>John Roa</td>\n",
       "      <td>8056849</td>\n",
       "      <td>128000</td>\n",
       "      <td>0.350917</td>\n",
       "      <td>1.171936</td>\n",
       "    </tr>\n",
       "    <tr>\n",
       "      <th>26</th>\n",
       "      <td>Because</td>\n",
       "      <td>71860424</td>\n",
       "      <td>239000</td>\n",
       "      <td>3.129889</td>\n",
       "      <td>2.188224</td>\n",
       "    </tr>\n",
       "    <tr>\n",
       "      <th>27</th>\n",
       "      <td>RivermayaTV</td>\n",
       "      <td>18903</td>\n",
       "      <td>32100</td>\n",
       "      <td>0.000823</td>\n",
       "      <td>0.293900</td>\n",
       "    </tr>\n",
       "    <tr>\n",
       "      <th>28</th>\n",
       "      <td>Shanti Dope - Topic</td>\n",
       "      <td>3941512</td>\n",
       "      <td>19300</td>\n",
       "      <td>0.171673</td>\n",
       "      <td>0.176706</td>\n",
       "    </tr>\n",
       "    <tr>\n",
       "      <th>29</th>\n",
       "      <td>KAMIKAZEEonTV</td>\n",
       "      <td>5331139</td>\n",
       "      <td>13700</td>\n",
       "      <td>0.232198</td>\n",
       "      <td>0.125434</td>\n",
       "    </tr>\n",
       "  </tbody>\n",
       "</table>\n",
       "</div>"
      ],
      "text/plain": [
       "                              artist      views  subscribers   views(%)  \\\n",
       "index                                                                     \n",
       "0                    December Avenue   23849952        36600   1.038787   \n",
       "1                            Ben&Ben  100462432       919000   4.375652   \n",
       "2                   Moira Dela Torre   32126025       572000   1.399253   \n",
       "3                          This Band    1156303        21600   0.050363   \n",
       "4                I Belong to the Zoo  181123724       509000   7.888864   \n",
       "5                        Skusta Clee   17811116        75600   0.775765   \n",
       "6           Parokya ni Edgar - Topic    8003115        87200   0.348577   \n",
       "7          Silent Sanctuary Official    4426687       119000   0.192805   \n",
       "8               Panty Droppaz League  337292688       698000  14.690820   \n",
       "9                      ALLMOST Music   69672308       352000   3.034585   \n",
       "10               Eraserheads - Topic   25347219        46600   1.104001   \n",
       "11                      IV OF SPADES   56413808       502000   2.457110   \n",
       "12              JuanKarlosLabajoVEVO  167021894       380000   7.274657   \n",
       "13                    Sarah Geronimo   19732520       236000   0.859452   \n",
       "14                   Callalily Music   30351583        81100   1.321967   \n",
       "15                     MYMP OFFICIAL    2782617        70600   0.121197   \n",
       "16     Michael Pangilinan (Official)  193189998      1030000   8.414412   \n",
       "17                        Hale Music    6257581        47900   0.272550   \n",
       "18                      Jason Marvin    1445675        70100   0.062967   \n",
       "19                Ex Battalion Music  819934600      2810000  35.712342   \n",
       "20                  Yeng Constantino   28378863      1030000   1.236045   \n",
       "21                    Jnske Official   30433523        97400   1.325535   \n",
       "22                     Mayonnaise PH   33727296       198000   1.468996   \n",
       "23                             UDDTV    6768275        28300   0.294793   \n",
       "24                  Regine Velasquez    9023207       472000   0.393007   \n",
       "25                          John Roa    8056849       128000   0.350917   \n",
       "26                           Because   71860424       239000   3.129889   \n",
       "27                       RivermayaTV      18903        32100   0.000823   \n",
       "28               Shanti Dope - Topic    3941512        19300   0.171673   \n",
       "29                     KAMIKAZEEonTV    5331139        13700   0.232198   \n",
       "\n",
       "       subscribers(%)  \n",
       "index                  \n",
       "0            0.335100  \n",
       "1            8.414133  \n",
       "2            5.237088  \n",
       "3            0.197764  \n",
       "4            4.660276  \n",
       "5            0.692175  \n",
       "6            0.798381  \n",
       "7            1.089534  \n",
       "8            6.390712  \n",
       "9            3.222823  \n",
       "10           0.426658  \n",
       "11           4.596186  \n",
       "12           3.479184  \n",
       "13           2.160757  \n",
       "14           0.742531  \n",
       "15           0.646396  \n",
       "16           9.430421  \n",
       "17           0.438560  \n",
       "18           0.641818  \n",
       "19          25.727653  \n",
       "20           9.430421  \n",
       "21           0.891770  \n",
       "22           1.812838  \n",
       "23           0.259108  \n",
       "24           4.321513  \n",
       "25           1.171936  \n",
       "26           2.188224  \n",
       "27           0.293900  \n",
       "28           0.176706  \n",
       "29           0.125434  "
      ]
     },
     "execution_count": 22,
     "metadata": {},
     "output_type": "execute_result"
    }
   ],
   "source": [
    "youtube['views(%)'] = youtube['views']/(youtube['views'].sum())*100\n",
    "youtube['subscribers(%)'] = (youtube['subscribers']/\n",
    "                             (youtube['subscribers'].sum())*100)\n",
    "\n",
    "youtube"
   ]
  },
  {
   "cell_type": "code",
   "execution_count": 23,
   "metadata": {
    "ExecuteTime": {
     "end_time": "2020-06-27T07:59:10.298215Z",
     "start_time": "2020-06-27T07:59:09.389927Z"
    },
    "colab": {
     "base_uri": "https://localhost:8080/",
     "height": 1000
    },
    "colab_type": "code",
    "id": "ebxuzfLUs8y5",
    "outputId": "2cc75d86-1b75-48ca-ed38-a339babd982a"
   },
   "outputs": [
    {
     "data": {
      "image/png": "[encoded data removed]",
      "text/plain": [
       "<Figure size 864x1800 with 2 Axes>"
      ]
     },
     "metadata": {
      "needs_background": "light"
     },
     "output_type": "display_data"
    }
   ],
   "source": [
    "f, axes = plt.subplots(2, 1, figsize=(12, 25))\n",
    "\n",
    "sns.set(font_scale = 1)\n",
    "\n",
    "yt_views = sns.barplot(y=\"artist\", x=\"views\", \n",
    "                       data= youtube.sort_values(by='views', \n",
    "                                                 ascending=False), ax=axes[0])\n",
    "yt_views.set_title('View Count of OPM Artists in YouTube',size = 16)\n",
    "yt_views.set(ylabel=\"Name of Artist\",\n",
    "             xlabel = \"Count per Hundred Million(100 000 000\")\n",
    "yt_views.set_xlim(0,950_000_000)\n",
    "yt_views.grid(b=True)\n",
    "\n",
    "for p in yt_views.patches:\n",
    "    width = p.get_width()\n",
    "    yt_views.text(width -0.1  ,\n",
    "            p.get_y()+p.get_height()/2. + 0.2,\n",
    "            '{}'.format(int(width)),\n",
    "            ha=\"left\")\n",
    "\n",
    "yt_subs = sns.barplot(y=\"artist\", x=\"subscribers\", \n",
    "                      data= youtube.sort_values(by='subscribers', \n",
    "                                                ascending=False), ax=axes[1])\n",
    "yt_subs.set_title('Subcriber Count of OPM Artists in YouTube', size =16)\n",
    "yt_subs.set(ylabel=\"Name of Artist\", xlabel = \"Count per Million (1 000 000)\")\n",
    "yt_subs.set_xlim(0,3_500_000)\n",
    "yt_subs.grid(b=True)\n",
    "\n",
    "for p in yt_subs.patches:\n",
    "    width = p.get_width()\n",
    "    yt_subs.text(width -0.1  ,\n",
    "            p.get_y()+p.get_height()/2. + 0.2,\n",
    "            '{}'.format(int(width)),\n",
    "            ha=\"left\")\n",
    "    \n",
    "plt.subplots_adjust(hspace = 0.2)\n",
    "plt.show()"
   ]
  },
  {
   "cell_type": "markdown",
   "metadata": {
    "colab_type": "text",
    "id": "bFzRWEOtEZOB"
   },
   "source": [
    "Observations\n",
    "\n",
    "- Greater disparity between parameter values (both __views__ and __subscribers__) is observed in YouTube data. \n",
    "- __Ex Battalion__ overwhelmingly got the highest view count at 36% share on the total views obtained by all artists with __Rivermaya__ at the bottom with only 0.008%\n",
    "- Consistently, __Ex Battalion__ maintained the top spot in terms of subscriber count having a massive 26% share on the total subscribers of all artists with __KAMIKAZEE__ lagging behind with 0.12%.\n"
   ]
  },
  {
   "cell_type": "markdown",
   "metadata": {
    "colab_type": "text",
    "id": "U5SiUbZG224o"
   },
   "source": [
    "# Visualizations and Conclusions"
   ]
  },
  {
   "cell_type": "markdown",
   "metadata": {
    "colab_type": "text",
    "id": "triecK363CXr"
   },
   "source": [
    "## Correlation"
   ]
  },
  {
   "cell_type": "code",
   "execution_count": 24,
   "metadata": {
    "ExecuteTime": {
     "end_time": "2020-06-27T07:59:10.307358Z",
     "start_time": "2020-06-27T07:59:10.300209Z"
    },
    "colab": {},
    "colab_type": "code",
    "id": "2RXHuNxj8Y8V"
   },
   "outputs": [],
   "source": [
    "artist_match = {}\n",
    "for i in match.index:\n",
    "    artist_match[match['youtube'][i]] = match['spotify'][i]\n",
    "\n",
    "youtube['artist'].replace(artist_match, inplace = True)"
   ]
  },
  {
   "cell_type": "code",
   "execution_count": 25,
   "metadata": {
    "ExecuteTime": {
     "end_time": "2020-06-27T07:59:10.320011Z",
     "start_time": "2020-06-27T07:59:10.309181Z"
    },
    "colab": {},
    "colab_type": "code",
    "id": "PQr8dvfi8jL3"
   },
   "outputs": [],
   "source": [
    "df = youtube.merge(spotify, on = 'artist')\n",
    "df['views'] = df['views'].astype('int64')\n",
    "df['subscribers'] = df['subscribers'].astype('int64')"
   ]
  },
  {
   "cell_type": "code",
   "execution_count": 26,
   "metadata": {
    "ExecuteTime": {
     "end_time": "2020-06-27T07:59:19.518991Z",
     "start_time": "2020-06-27T07:59:10.322683Z"
    },
    "colab": {
     "base_uri": "https://localhost:8080/",
     "height": 1000
    },
    "colab_type": "code",
    "id": "PVMvx3AL8pod",
    "outputId": "fc794bb2-fcc1-4f42-f515-9a196248a904"
   },
   "outputs": [
    {
     "data": {
      "image/png": "[encoded data removed]",
      "text/plain": [
       "<Figure size 720x720 with 20 Axes>"
      ]
     },
     "metadata": {},
     "output_type": "display_data"
    }
   ],
   "source": [
    "ax1 = sns.pairplot(df[['views', 'subscribers','popularity', 'followers']])\n",
    "ax1.set(yscale = 'log', xscale = 'log');"
   ]
  },
  {
   "cell_type": "code",
   "execution_count": 27,
   "metadata": {
    "ExecuteTime": {
     "end_time": "2020-06-27T07:59:19.535648Z",
     "start_time": "2020-06-27T07:59:19.521850Z"
    },
    "colab": {},
    "colab_type": "code",
    "id": "HLv2gyv1G-KO"
   },
   "outputs": [],
   "source": [
    "values = [youtube['views'],\n",
    "          youtube['subscribers'],\n",
    "          spotify['popularity'],\n",
    "          spotify['followers']]\n",
    "\n",
    "correlations = {}\n",
    "for x,y in itertools.combinations(values, 2):\n",
    "    p_val = stats.pearsonr(x,y)\n",
    "    s_val = stats.spearmanr(x,y)\n",
    "    correlations[f'{x.name}-{y.name}'] = {'Pearson R':           p_val[0],\n",
    "                                          'Pearson p-value'  :   p_val[1],\n",
    "                                          'Spearman correlation':s_val[0],\n",
    "                                          'Spearman p-value':    s_val[1]}\n"
   ]
  },
  {
   "cell_type": "code",
   "execution_count": 28,
   "metadata": {
    "ExecuteTime": {
     "end_time": "2020-06-27T07:59:19.550098Z",
     "start_time": "2020-06-27T07:59:19.537365Z"
    },
    "colab": {
     "base_uri": "https://localhost:8080/",
     "height": 286
    },
    "colab_type": "code",
    "id": "YU284gMmbX1j",
    "outputId": "00a90104-6080-4235-b2c2-acdd13a9f9f6"
   },
   "outputs": [
    {
     "data": {
      "text/html": [
       "<div>\n",
       "<style scoped>\n",
       "    .dataframe tbody tr th:only-of-type {\n",
       "        vertical-align: middle;\n",
       "    }\n",
       "\n",
       "    .dataframe tbody tr th {\n",
       "        vertical-align: top;\n",
       "    }\n",
       "\n",
       "    .dataframe thead th {\n",
       "        text-align: right;\n",
       "    }\n",
       "</style>\n",
       "<table border=\"1\" class=\"dataframe\">\n",
       "  <thead>\n",
       "    <tr style=\"text-align: right;\">\n",
       "      <th></th>\n",
       "      <th>Pearson R</th>\n",
       "      <th>Pearson p-value</th>\n",
       "      <th>Spearman correlation</th>\n",
       "      <th>Spearman p-value</th>\n",
       "    </tr>\n",
       "  </thead>\n",
       "  <tbody>\n",
       "    <tr>\n",
       "      <th>views-subscribers</th>\n",
       "      <td>0.893667</td>\n",
       "      <td>2.987515e-11</td>\n",
       "      <td>0.805874</td>\n",
       "      <td>7.718011e-08</td>\n",
       "    </tr>\n",
       "    <tr>\n",
       "      <th>views-popularity</th>\n",
       "      <td>0.059384</td>\n",
       "      <td>7.552560e-01</td>\n",
       "      <td>0.283355</td>\n",
       "      <td>1.291798e-01</td>\n",
       "    </tr>\n",
       "    <tr>\n",
       "      <th>views-followers</th>\n",
       "      <td>0.160639</td>\n",
       "      <td>3.964391e-01</td>\n",
       "      <td>0.386874</td>\n",
       "      <td>3.468770e-02</td>\n",
       "    </tr>\n",
       "    <tr>\n",
       "      <th>subscribers-popularity</th>\n",
       "      <td>0.078001</td>\n",
       "      <td>6.820249e-01</td>\n",
       "      <td>0.247963</td>\n",
       "      <td>1.864400e-01</td>\n",
       "    </tr>\n",
       "    <tr>\n",
       "      <th>subscribers-followers</th>\n",
       "      <td>0.297144</td>\n",
       "      <td>1.107957e-01</td>\n",
       "      <td>0.420291</td>\n",
       "      <td>2.075120e-02</td>\n",
       "    </tr>\n",
       "    <tr>\n",
       "      <th>popularity-followers</th>\n",
       "      <td>0.698837</td>\n",
       "      <td>1.743249e-05</td>\n",
       "      <td>0.674867</td>\n",
       "      <td>4.304352e-05</td>\n",
       "    </tr>\n",
       "  </tbody>\n",
       "</table>\n",
       "</div>"
      ],
      "text/plain": [
       "                        Pearson R  Pearson p-value  Spearman correlation  \\\n",
       "views-subscribers        0.893667     2.987515e-11              0.805874   \n",
       "views-popularity         0.059384     7.552560e-01              0.283355   \n",
       "views-followers          0.160639     3.964391e-01              0.386874   \n",
       "subscribers-popularity   0.078001     6.820249e-01              0.247963   \n",
       "subscribers-followers    0.297144     1.107957e-01              0.420291   \n",
       "popularity-followers     0.698837     1.743249e-05              0.674867   \n",
       "\n",
       "                        Spearman p-value  \n",
       "views-subscribers           7.718011e-08  \n",
       "views-popularity            1.291798e-01  \n",
       "views-followers             3.468770e-02  \n",
       "subscribers-popularity      1.864400e-01  \n",
       "subscribers-followers       2.075120e-02  \n",
       "popularity-followers        4.304352e-05  "
      ]
     },
     "execution_count": 28,
     "metadata": {},
     "output_type": "execute_result"
    }
   ],
   "source": [
    "pd.DataFrame(correlations).T"
   ]
  },
  {
   "cell_type": "markdown",
   "metadata": {
    "colab_type": "text",
    "id": "Itk08jbzoDrh"
   },
   "source": [
    "As seen on the scatter plots, and based on aligned results for both the Pearson Correlation Cofficient and Spearman correlation coefficient, only internal measures are strongly correlated with each other. Specifically, a high __popularity__ in Spotify translate to more artist __followers__ in Spotify at 0.698; and YouTube __views__ translate to more YouTube __subscribers__ at 0.894.\n",
    "\n",
    "Meanwhile, measures between the two platforms have low to correlation, with YouTube __subscribers__ and Spotify __followers__ at the highest at 0.202. Moreover, YouTube __views__ even have a negative correlation to Spotify __popularity__ at -0.014."
   ]
  },
  {
   "cell_type": "markdown",
   "metadata": {
    "colab_type": "text",
    "id": "-hw7-CGUHy1F"
   },
   "source": [
    "## Ranking"
   ]
  },
  {
   "cell_type": "markdown",
   "metadata": {
    "colab_type": "text",
    "id": "qi1rbLveLWqM"
   },
   "source": [
    "### Ranking of Artists in Spotify\n",
    "\n"
   ]
  },
  {
   "cell_type": "code",
   "execution_count": 29,
   "metadata": {
    "ExecuteTime": {
     "end_time": "2020-06-27T07:59:19.556776Z",
     "start_time": "2020-06-27T07:59:19.552926Z"
    },
    "colab": {},
    "colab_type": "code",
    "id": "dhuPEYyuNeng"
   },
   "outputs": [],
   "source": [
    "spotify_ranking = df[['artist','popularity','followers']]"
   ]
  },
  {
   "cell_type": "code",
   "execution_count": 30,
   "metadata": {
    "ExecuteTime": {
     "end_time": "2020-06-27T07:59:19.567014Z",
     "start_time": "2020-06-27T07:59:19.558477Z"
    },
    "colab": {
     "base_uri": "https://localhost:8080/",
     "height": 194
    },
    "colab_type": "code",
    "id": "V9hfEGeuH4vH",
    "outputId": "6fead09a-f283-49b5-824e-67133391b2cc"
   },
   "outputs": [
    {
     "data": {
      "text/html": [
       "<div>\n",
       "<style scoped>\n",
       "    .dataframe tbody tr th:only-of-type {\n",
       "        vertical-align: middle;\n",
       "    }\n",
       "\n",
       "    .dataframe tbody tr th {\n",
       "        vertical-align: top;\n",
       "    }\n",
       "\n",
       "    .dataframe thead th {\n",
       "        text-align: right;\n",
       "    }\n",
       "</style>\n",
       "<table border=\"1\" class=\"dataframe\">\n",
       "  <thead>\n",
       "    <tr style=\"text-align: right;\">\n",
       "      <th></th>\n",
       "      <th>artist</th>\n",
       "      <th>popularity</th>\n",
       "      <th>followers</th>\n",
       "    </tr>\n",
       "  </thead>\n",
       "  <tbody>\n",
       "    <tr>\n",
       "      <th>0</th>\n",
       "      <td>December Avenue</td>\n",
       "      <td>68</td>\n",
       "      <td>2992407</td>\n",
       "    </tr>\n",
       "    <tr>\n",
       "      <th>1</th>\n",
       "      <td>Ben&amp;Ben</td>\n",
       "      <td>76</td>\n",
       "      <td>1812303</td>\n",
       "    </tr>\n",
       "    <tr>\n",
       "      <th>2</th>\n",
       "      <td>Moira Dela Torre</td>\n",
       "      <td>71</td>\n",
       "      <td>4680918</td>\n",
       "    </tr>\n",
       "    <tr>\n",
       "      <th>3</th>\n",
       "      <td>This Band</td>\n",
       "      <td>61</td>\n",
       "      <td>1105071</td>\n",
       "    </tr>\n",
       "    <tr>\n",
       "      <th>4</th>\n",
       "      <td>I Belong to the Zoo</td>\n",
       "      <td>63</td>\n",
       "      <td>1039920</td>\n",
       "    </tr>\n",
       "  </tbody>\n",
       "</table>\n",
       "</div>"
      ],
      "text/plain": [
       "                artist  popularity  followers\n",
       "0      December Avenue          68    2992407\n",
       "1              Ben&Ben          76    1812303\n",
       "2     Moira Dela Torre          71    4680918\n",
       "3            This Band          61    1105071\n",
       "4  I Belong to the Zoo          63    1039920"
      ]
     },
     "execution_count": 30,
     "metadata": {},
     "output_type": "execute_result"
    }
   ],
   "source": [
    "spotify_ranking.head()"
   ]
  },
  {
   "cell_type": "code",
   "execution_count": 31,
   "metadata": {
    "ExecuteTime": {
     "end_time": "2020-06-27T07:59:19.589143Z",
     "start_time": "2020-06-27T07:59:19.568900Z"
    },
    "colab": {
     "base_uri": "https://localhost:8080/",
     "height": 1000
    },
    "colab_type": "code",
    "id": "tz0_R2i0MJEP",
    "outputId": "e0f582a4-a1b5-4efd-954a-291f0e1bdfd9"
   },
   "outputs": [
    {
     "name": "stderr",
     "output_type": "stream",
     "text": [
      "/opt/conda/lib/python3.7/site-packages/ipykernel_launcher.py:4: SettingWithCopyWarning: \n",
      "A value is trying to be set on a copy of a slice from a DataFrame.\n",
      "Try using .loc[row_indexer,col_indexer] = value instead\n",
      "\n",
      "See the caveats in the documentation: https://pandas.pydata.org/pandas-docs/stable/user_guide/indexing.html#returning-a-view-versus-a-copy\n",
      "  after removing the cwd from sys.path.\n"
     ]
    },
    {
     "data": {
      "text/html": [
       "<div>\n",
       "<style scoped>\n",
       "    .dataframe tbody tr th:only-of-type {\n",
       "        vertical-align: middle;\n",
       "    }\n",
       "\n",
       "    .dataframe tbody tr th {\n",
       "        vertical-align: top;\n",
       "    }\n",
       "\n",
       "    .dataframe thead th {\n",
       "        text-align: right;\n",
       "    }\n",
       "</style>\n",
       "<table border=\"1\" class=\"dataframe\">\n",
       "  <thead>\n",
       "    <tr style=\"text-align: right;\">\n",
       "      <th></th>\n",
       "      <th>artist</th>\n",
       "      <th>popularity</th>\n",
       "      <th>followers</th>\n",
       "      <th>Rank</th>\n",
       "    </tr>\n",
       "  </thead>\n",
       "  <tbody>\n",
       "    <tr>\n",
       "      <th>1</th>\n",
       "      <td>Ben&amp;Ben</td>\n",
       "      <td>76</td>\n",
       "      <td>1812303</td>\n",
       "      <td>1</td>\n",
       "    </tr>\n",
       "    <tr>\n",
       "      <th>2</th>\n",
       "      <td>Moira Dela Torre</td>\n",
       "      <td>71</td>\n",
       "      <td>4680918</td>\n",
       "      <td>2</td>\n",
       "    </tr>\n",
       "    <tr>\n",
       "      <th>0</th>\n",
       "      <td>December Avenue</td>\n",
       "      <td>68</td>\n",
       "      <td>2992407</td>\n",
       "      <td>3</td>\n",
       "    </tr>\n",
       "    <tr>\n",
       "      <th>6</th>\n",
       "      <td>Parokya Ni Edgar</td>\n",
       "      <td>67</td>\n",
       "      <td>1916843</td>\n",
       "      <td>4</td>\n",
       "    </tr>\n",
       "    <tr>\n",
       "      <th>10</th>\n",
       "      <td>Eraserheads</td>\n",
       "      <td>67</td>\n",
       "      <td>1446786</td>\n",
       "      <td>5</td>\n",
       "    </tr>\n",
       "    <tr>\n",
       "      <th>15</th>\n",
       "      <td>MYMP</td>\n",
       "      <td>65</td>\n",
       "      <td>544994</td>\n",
       "      <td>6</td>\n",
       "    </tr>\n",
       "    <tr>\n",
       "      <th>5</th>\n",
       "      <td>Skusta Clee</td>\n",
       "      <td>65</td>\n",
       "      <td>315101</td>\n",
       "      <td>7</td>\n",
       "    </tr>\n",
       "    <tr>\n",
       "      <th>13</th>\n",
       "      <td>Sarah Geronimo</td>\n",
       "      <td>64</td>\n",
       "      <td>1941708</td>\n",
       "      <td>8</td>\n",
       "    </tr>\n",
       "    <tr>\n",
       "      <th>7</th>\n",
       "      <td>Silent Sanctuary</td>\n",
       "      <td>64</td>\n",
       "      <td>1734337</td>\n",
       "      <td>9</td>\n",
       "    </tr>\n",
       "    <tr>\n",
       "      <th>19</th>\n",
       "      <td>Ex Battalion</td>\n",
       "      <td>63</td>\n",
       "      <td>1597508</td>\n",
       "      <td>10</td>\n",
       "    </tr>\n",
       "    <tr>\n",
       "      <th>4</th>\n",
       "      <td>I Belong to the Zoo</td>\n",
       "      <td>63</td>\n",
       "      <td>1039920</td>\n",
       "      <td>11</td>\n",
       "    </tr>\n",
       "    <tr>\n",
       "      <th>24</th>\n",
       "      <td>Regine Velasquez</td>\n",
       "      <td>63</td>\n",
       "      <td>869311</td>\n",
       "      <td>12</td>\n",
       "    </tr>\n",
       "    <tr>\n",
       "      <th>9</th>\n",
       "      <td>ALLMO$T</td>\n",
       "      <td>63</td>\n",
       "      <td>476108</td>\n",
       "      <td>13</td>\n",
       "    </tr>\n",
       "    <tr>\n",
       "      <th>16</th>\n",
       "      <td>Michael Pangilinan</td>\n",
       "      <td>62</td>\n",
       "      <td>987196</td>\n",
       "      <td>14</td>\n",
       "    </tr>\n",
       "    <tr>\n",
       "      <th>27</th>\n",
       "      <td>Rivermaya</td>\n",
       "      <td>62</td>\n",
       "      <td>852203</td>\n",
       "      <td>15</td>\n",
       "    </tr>\n",
       "    <tr>\n",
       "      <th>11</th>\n",
       "      <td>IV Of Spades</td>\n",
       "      <td>61</td>\n",
       "      <td>1222435</td>\n",
       "      <td>16</td>\n",
       "    </tr>\n",
       "    <tr>\n",
       "      <th>3</th>\n",
       "      <td>This Band</td>\n",
       "      <td>61</td>\n",
       "      <td>1105071</td>\n",
       "      <td>17</td>\n",
       "    </tr>\n",
       "    <tr>\n",
       "      <th>25</th>\n",
       "      <td>John Roa</td>\n",
       "      <td>61</td>\n",
       "      <td>667247</td>\n",
       "      <td>18</td>\n",
       "    </tr>\n",
       "    <tr>\n",
       "      <th>29</th>\n",
       "      <td>Kamikazee</td>\n",
       "      <td>61</td>\n",
       "      <td>608697</td>\n",
       "      <td>19</td>\n",
       "    </tr>\n",
       "    <tr>\n",
       "      <th>17</th>\n",
       "      <td>Hale</td>\n",
       "      <td>61</td>\n",
       "      <td>489962</td>\n",
       "      <td>20</td>\n",
       "    </tr>\n",
       "    <tr>\n",
       "      <th>20</th>\n",
       "      <td>Yeng Constantino</td>\n",
       "      <td>60</td>\n",
       "      <td>1575702</td>\n",
       "      <td>21</td>\n",
       "    </tr>\n",
       "    <tr>\n",
       "      <th>22</th>\n",
       "      <td>Mayonnaise</td>\n",
       "      <td>60</td>\n",
       "      <td>441884</td>\n",
       "      <td>22</td>\n",
       "    </tr>\n",
       "    <tr>\n",
       "      <th>14</th>\n",
       "      <td>Callalily</td>\n",
       "      <td>59</td>\n",
       "      <td>797828</td>\n",
       "      <td>23</td>\n",
       "    </tr>\n",
       "    <tr>\n",
       "      <th>12</th>\n",
       "      <td>juan karlos</td>\n",
       "      <td>59</td>\n",
       "      <td>533849</td>\n",
       "      <td>24</td>\n",
       "    </tr>\n",
       "    <tr>\n",
       "      <th>26</th>\n",
       "      <td>Because</td>\n",
       "      <td>59</td>\n",
       "      <td>248015</td>\n",
       "      <td>25</td>\n",
       "    </tr>\n",
       "    <tr>\n",
       "      <th>28</th>\n",
       "      <td>Shanti Dope</td>\n",
       "      <td>58</td>\n",
       "      <td>874356</td>\n",
       "      <td>26</td>\n",
       "    </tr>\n",
       "    <tr>\n",
       "      <th>23</th>\n",
       "      <td>Up Dharma Down</td>\n",
       "      <td>58</td>\n",
       "      <td>571130</td>\n",
       "      <td>27</td>\n",
       "    </tr>\n",
       "    <tr>\n",
       "      <th>8</th>\n",
       "      <td>PDL</td>\n",
       "      <td>57</td>\n",
       "      <td>85505</td>\n",
       "      <td>28</td>\n",
       "    </tr>\n",
       "    <tr>\n",
       "      <th>18</th>\n",
       "      <td>Jason Marvin</td>\n",
       "      <td>56</td>\n",
       "      <td>3355</td>\n",
       "      <td>29</td>\n",
       "    </tr>\n",
       "    <tr>\n",
       "      <th>21</th>\n",
       "      <td>Jnske</td>\n",
       "      <td>52</td>\n",
       "      <td>6926</td>\n",
       "      <td>30</td>\n",
       "    </tr>\n",
       "  </tbody>\n",
       "</table>\n",
       "</div>"
      ],
      "text/plain": [
       "                 artist  popularity  followers  Rank\n",
       "1               Ben&Ben          76    1812303     1\n",
       "2      Moira Dela Torre          71    4680918     2\n",
       "0       December Avenue          68    2992407     3\n",
       "6      Parokya Ni Edgar          67    1916843     4\n",
       "10          Eraserheads          67    1446786     5\n",
       "15                 MYMP          65     544994     6\n",
       "5           Skusta Clee          65     315101     7\n",
       "13       Sarah Geronimo          64    1941708     8\n",
       "7      Silent Sanctuary          64    1734337     9\n",
       "19         Ex Battalion          63    1597508    10\n",
       "4   I Belong to the Zoo          63    1039920    11\n",
       "24     Regine Velasquez          63     869311    12\n",
       "9               ALLMO$T          63     476108    13\n",
       "16   Michael Pangilinan          62     987196    14\n",
       "27            Rivermaya          62     852203    15\n",
       "11         IV Of Spades          61    1222435    16\n",
       "3             This Band          61    1105071    17\n",
       "25             John Roa          61     667247    18\n",
       "29            Kamikazee          61     608697    19\n",
       "17                 Hale          61     489962    20\n",
       "20     Yeng Constantino          60    1575702    21\n",
       "22           Mayonnaise          60     441884    22\n",
       "14            Callalily          59     797828    23\n",
       "12          juan karlos          59     533849    24\n",
       "26              Because          59     248015    25\n",
       "28          Shanti Dope          58     874356    26\n",
       "23       Up Dharma Down          58     571130    27\n",
       "8                   PDL          57      85505    28\n",
       "18         Jason Marvin          56       3355    29\n",
       "21                Jnske          52       6926    30"
      ]
     },
     "execution_count": 31,
     "metadata": {},
     "output_type": "execute_result"
    }
   ],
   "source": [
    "spotify_ranking['Rank'] = spotify_ranking[['popularity','followers']].\\\n",
    "                            apply(tuple, axis=1).rank(method='dense',\n",
    "                                                      ascending=False).\\\n",
    "                                                      astype(int)\n",
    "\n",
    "spotify_ranking.sort_values(by='Rank')"
   ]
  },
  {
   "cell_type": "markdown",
   "metadata": {
    "colab_type": "text",
    "id": "VXkDDFDXOBrZ"
   },
   "source": [
    "### Ranking of Artists in YouTube"
   ]
  },
  {
   "cell_type": "code",
   "execution_count": 32,
   "metadata": {
    "ExecuteTime": {
     "end_time": "2020-06-27T07:59:19.596800Z",
     "start_time": "2020-06-27T07:59:19.593591Z"
    },
    "colab": {},
    "colab_type": "code",
    "id": "SxND0wLHOTlg"
   },
   "outputs": [],
   "source": [
    "youtube_ranking = df[['artist','views','subscribers']]"
   ]
  },
  {
   "cell_type": "code",
   "execution_count": 33,
   "metadata": {
    "ExecuteTime": {
     "end_time": "2020-06-27T07:59:19.606930Z",
     "start_time": "2020-06-27T07:59:19.598776Z"
    },
    "colab": {
     "base_uri": "https://localhost:8080/",
     "height": 194
    },
    "colab_type": "code",
    "id": "2YJZMCdPaqwn",
    "outputId": "0863607d-c211-475a-892d-8e7faab4d436"
   },
   "outputs": [
    {
     "data": {
      "text/html": [
       "<div>\n",
       "<style scoped>\n",
       "    .dataframe tbody tr th:only-of-type {\n",
       "        vertical-align: middle;\n",
       "    }\n",
       "\n",
       "    .dataframe tbody tr th {\n",
       "        vertical-align: top;\n",
       "    }\n",
       "\n",
       "    .dataframe thead th {\n",
       "        text-align: right;\n",
       "    }\n",
       "</style>\n",
       "<table border=\"1\" class=\"dataframe\">\n",
       "  <thead>\n",
       "    <tr style=\"text-align: right;\">\n",
       "      <th></th>\n",
       "      <th>artist</th>\n",
       "      <th>views</th>\n",
       "      <th>subscribers</th>\n",
       "    </tr>\n",
       "  </thead>\n",
       "  <tbody>\n",
       "    <tr>\n",
       "      <th>0</th>\n",
       "      <td>December Avenue</td>\n",
       "      <td>23849952</td>\n",
       "      <td>36600</td>\n",
       "    </tr>\n",
       "    <tr>\n",
       "      <th>1</th>\n",
       "      <td>Ben&amp;Ben</td>\n",
       "      <td>100462432</td>\n",
       "      <td>919000</td>\n",
       "    </tr>\n",
       "    <tr>\n",
       "      <th>2</th>\n",
       "      <td>Moira Dela Torre</td>\n",
       "      <td>32126025</td>\n",
       "      <td>572000</td>\n",
       "    </tr>\n",
       "    <tr>\n",
       "      <th>3</th>\n",
       "      <td>This Band</td>\n",
       "      <td>1156303</td>\n",
       "      <td>21600</td>\n",
       "    </tr>\n",
       "    <tr>\n",
       "      <th>4</th>\n",
       "      <td>I Belong to the Zoo</td>\n",
       "      <td>181123724</td>\n",
       "      <td>509000</td>\n",
       "    </tr>\n",
       "  </tbody>\n",
       "</table>\n",
       "</div>"
      ],
      "text/plain": [
       "                artist      views  subscribers\n",
       "0      December Avenue   23849952        36600\n",
       "1              Ben&Ben  100462432       919000\n",
       "2     Moira Dela Torre   32126025       572000\n",
       "3            This Band    1156303        21600\n",
       "4  I Belong to the Zoo  181123724       509000"
      ]
     },
     "execution_count": 33,
     "metadata": {},
     "output_type": "execute_result"
    }
   ],
   "source": [
    "youtube_ranking.head()"
   ]
  },
  {
   "cell_type": "code",
   "execution_count": 34,
   "metadata": {
    "ExecuteTime": {
     "end_time": "2020-06-27T07:59:19.625769Z",
     "start_time": "2020-06-27T07:59:19.608606Z"
    },
    "colab": {
     "base_uri": "https://localhost:8080/",
     "height": 1000
    },
    "colab_type": "code",
    "id": "fg0nrlXxOd1N",
    "outputId": "dd7eb040-72d7-44b3-d30e-bf65e387064d"
   },
   "outputs": [
    {
     "name": "stderr",
     "output_type": "stream",
     "text": [
      "/opt/conda/lib/python3.7/site-packages/ipykernel_launcher.py:4: SettingWithCopyWarning: \n",
      "A value is trying to be set on a copy of a slice from a DataFrame.\n",
      "Try using .loc[row_indexer,col_indexer] = value instead\n",
      "\n",
      "See the caveats in the documentation: https://pandas.pydata.org/pandas-docs/stable/user_guide/indexing.html#returning-a-view-versus-a-copy\n",
      "  after removing the cwd from sys.path.\n"
     ]
    },
    {
     "data": {
      "text/html": [
       "<div>\n",
       "<style scoped>\n",
       "    .dataframe tbody tr th:only-of-type {\n",
       "        vertical-align: middle;\n",
       "    }\n",
       "\n",
       "    .dataframe tbody tr th {\n",
       "        vertical-align: top;\n",
       "    }\n",
       "\n",
       "    .dataframe thead th {\n",
       "        text-align: right;\n",
       "    }\n",
       "</style>\n",
       "<table border=\"1\" class=\"dataframe\">\n",
       "  <thead>\n",
       "    <tr style=\"text-align: right;\">\n",
       "      <th></th>\n",
       "      <th>artist</th>\n",
       "      <th>views</th>\n",
       "      <th>subscribers</th>\n",
       "      <th>Rank</th>\n",
       "    </tr>\n",
       "  </thead>\n",
       "  <tbody>\n",
       "    <tr>\n",
       "      <th>19</th>\n",
       "      <td>Ex Battalion</td>\n",
       "      <td>819934600</td>\n",
       "      <td>2810000</td>\n",
       "      <td>1</td>\n",
       "    </tr>\n",
       "    <tr>\n",
       "      <th>8</th>\n",
       "      <td>PDL</td>\n",
       "      <td>337292688</td>\n",
       "      <td>698000</td>\n",
       "      <td>2</td>\n",
       "    </tr>\n",
       "    <tr>\n",
       "      <th>16</th>\n",
       "      <td>Michael Pangilinan</td>\n",
       "      <td>193189998</td>\n",
       "      <td>1030000</td>\n",
       "      <td>3</td>\n",
       "    </tr>\n",
       "    <tr>\n",
       "      <th>4</th>\n",
       "      <td>I Belong to the Zoo</td>\n",
       "      <td>181123724</td>\n",
       "      <td>509000</td>\n",
       "      <td>4</td>\n",
       "    </tr>\n",
       "    <tr>\n",
       "      <th>12</th>\n",
       "      <td>juan karlos</td>\n",
       "      <td>167021894</td>\n",
       "      <td>380000</td>\n",
       "      <td>5</td>\n",
       "    </tr>\n",
       "    <tr>\n",
       "      <th>1</th>\n",
       "      <td>Ben&amp;Ben</td>\n",
       "      <td>100462432</td>\n",
       "      <td>919000</td>\n",
       "      <td>6</td>\n",
       "    </tr>\n",
       "    <tr>\n",
       "      <th>26</th>\n",
       "      <td>Because</td>\n",
       "      <td>71860424</td>\n",
       "      <td>239000</td>\n",
       "      <td>7</td>\n",
       "    </tr>\n",
       "    <tr>\n",
       "      <th>9</th>\n",
       "      <td>ALLMO$T</td>\n",
       "      <td>69672308</td>\n",
       "      <td>352000</td>\n",
       "      <td>8</td>\n",
       "    </tr>\n",
       "    <tr>\n",
       "      <th>11</th>\n",
       "      <td>IV Of Spades</td>\n",
       "      <td>56413808</td>\n",
       "      <td>502000</td>\n",
       "      <td>9</td>\n",
       "    </tr>\n",
       "    <tr>\n",
       "      <th>22</th>\n",
       "      <td>Mayonnaise</td>\n",
       "      <td>33727296</td>\n",
       "      <td>198000</td>\n",
       "      <td>10</td>\n",
       "    </tr>\n",
       "    <tr>\n",
       "      <th>2</th>\n",
       "      <td>Moira Dela Torre</td>\n",
       "      <td>32126025</td>\n",
       "      <td>572000</td>\n",
       "      <td>11</td>\n",
       "    </tr>\n",
       "    <tr>\n",
       "      <th>21</th>\n",
       "      <td>Jnske</td>\n",
       "      <td>30433523</td>\n",
       "      <td>97400</td>\n",
       "      <td>12</td>\n",
       "    </tr>\n",
       "    <tr>\n",
       "      <th>14</th>\n",
       "      <td>Callalily</td>\n",
       "      <td>30351583</td>\n",
       "      <td>81100</td>\n",
       "      <td>13</td>\n",
       "    </tr>\n",
       "    <tr>\n",
       "      <th>20</th>\n",
       "      <td>Yeng Constantino</td>\n",
       "      <td>28378863</td>\n",
       "      <td>1030000</td>\n",
       "      <td>14</td>\n",
       "    </tr>\n",
       "    <tr>\n",
       "      <th>10</th>\n",
       "      <td>Eraserheads</td>\n",
       "      <td>25347219</td>\n",
       "      <td>46600</td>\n",
       "      <td>15</td>\n",
       "    </tr>\n",
       "    <tr>\n",
       "      <th>0</th>\n",
       "      <td>December Avenue</td>\n",
       "      <td>23849952</td>\n",
       "      <td>36600</td>\n",
       "      <td>16</td>\n",
       "    </tr>\n",
       "    <tr>\n",
       "      <th>13</th>\n",
       "      <td>Sarah Geronimo</td>\n",
       "      <td>19732520</td>\n",
       "      <td>236000</td>\n",
       "      <td>17</td>\n",
       "    </tr>\n",
       "    <tr>\n",
       "      <th>5</th>\n",
       "      <td>Skusta Clee</td>\n",
       "      <td>17811116</td>\n",
       "      <td>75600</td>\n",
       "      <td>18</td>\n",
       "    </tr>\n",
       "    <tr>\n",
       "      <th>24</th>\n",
       "      <td>Regine Velasquez</td>\n",
       "      <td>9023207</td>\n",
       "      <td>472000</td>\n",
       "      <td>19</td>\n",
       "    </tr>\n",
       "    <tr>\n",
       "      <th>25</th>\n",
       "      <td>John Roa</td>\n",
       "      <td>8056849</td>\n",
       "      <td>128000</td>\n",
       "      <td>20</td>\n",
       "    </tr>\n",
       "    <tr>\n",
       "      <th>6</th>\n",
       "      <td>Parokya Ni Edgar</td>\n",
       "      <td>8003115</td>\n",
       "      <td>87200</td>\n",
       "      <td>21</td>\n",
       "    </tr>\n",
       "    <tr>\n",
       "      <th>23</th>\n",
       "      <td>Up Dharma Down</td>\n",
       "      <td>6768275</td>\n",
       "      <td>28300</td>\n",
       "      <td>22</td>\n",
       "    </tr>\n",
       "    <tr>\n",
       "      <th>17</th>\n",
       "      <td>Hale</td>\n",
       "      <td>6257581</td>\n",
       "      <td>47900</td>\n",
       "      <td>23</td>\n",
       "    </tr>\n",
       "    <tr>\n",
       "      <th>29</th>\n",
       "      <td>Kamikazee</td>\n",
       "      <td>5331139</td>\n",
       "      <td>13700</td>\n",
       "      <td>24</td>\n",
       "    </tr>\n",
       "    <tr>\n",
       "      <th>7</th>\n",
       "      <td>Silent Sanctuary</td>\n",
       "      <td>4426687</td>\n",
       "      <td>119000</td>\n",
       "      <td>25</td>\n",
       "    </tr>\n",
       "    <tr>\n",
       "      <th>28</th>\n",
       "      <td>Shanti Dope</td>\n",
       "      <td>3941512</td>\n",
       "      <td>19300</td>\n",
       "      <td>26</td>\n",
       "    </tr>\n",
       "    <tr>\n",
       "      <th>15</th>\n",
       "      <td>MYMP</td>\n",
       "      <td>2782617</td>\n",
       "      <td>70600</td>\n",
       "      <td>27</td>\n",
       "    </tr>\n",
       "    <tr>\n",
       "      <th>18</th>\n",
       "      <td>Jason Marvin</td>\n",
       "      <td>1445675</td>\n",
       "      <td>70100</td>\n",
       "      <td>28</td>\n",
       "    </tr>\n",
       "    <tr>\n",
       "      <th>3</th>\n",
       "      <td>This Band</td>\n",
       "      <td>1156303</td>\n",
       "      <td>21600</td>\n",
       "      <td>29</td>\n",
       "    </tr>\n",
       "    <tr>\n",
       "      <th>27</th>\n",
       "      <td>Rivermaya</td>\n",
       "      <td>18903</td>\n",
       "      <td>32100</td>\n",
       "      <td>30</td>\n",
       "    </tr>\n",
       "  </tbody>\n",
       "</table>\n",
       "</div>"
      ],
      "text/plain": [
       "                 artist      views  subscribers  Rank\n",
       "19         Ex Battalion  819934600      2810000     1\n",
       "8                   PDL  337292688       698000     2\n",
       "16   Michael Pangilinan  193189998      1030000     3\n",
       "4   I Belong to the Zoo  181123724       509000     4\n",
       "12          juan karlos  167021894       380000     5\n",
       "1               Ben&Ben  100462432       919000     6\n",
       "26              Because   71860424       239000     7\n",
       "9               ALLMO$T   69672308       352000     8\n",
       "11         IV Of Spades   56413808       502000     9\n",
       "22           Mayonnaise   33727296       198000    10\n",
       "2      Moira Dela Torre   32126025       572000    11\n",
       "21                Jnske   30433523        97400    12\n",
       "14            Callalily   30351583        81100    13\n",
       "20     Yeng Constantino   28378863      1030000    14\n",
       "10          Eraserheads   25347219        46600    15\n",
       "0       December Avenue   23849952        36600    16\n",
       "13       Sarah Geronimo   19732520       236000    17\n",
       "5           Skusta Clee   17811116        75600    18\n",
       "24     Regine Velasquez    9023207       472000    19\n",
       "25             John Roa    8056849       128000    20\n",
       "6      Parokya Ni Edgar    8003115        87200    21\n",
       "23       Up Dharma Down    6768275        28300    22\n",
       "17                 Hale    6257581        47900    23\n",
       "29            Kamikazee    5331139        13700    24\n",
       "7      Silent Sanctuary    4426687       119000    25\n",
       "28          Shanti Dope    3941512        19300    26\n",
       "15                 MYMP    2782617        70600    27\n",
       "18         Jason Marvin    1445675        70100    28\n",
       "3             This Band    1156303        21600    29\n",
       "27            Rivermaya      18903        32100    30"
      ]
     },
     "execution_count": 34,
     "metadata": {},
     "output_type": "execute_result"
    }
   ],
   "source": [
    "youtube_ranking['Rank'] = youtube_ranking[['views','subscribers']].\\\n",
    "                            apply(tuple, axis=1).rank(method='dense',\n",
    "                                                      ascending=False).\\\n",
    "                                                      astype(int)\n",
    "\n",
    "youtube_ranking.sort_values(by='Rank')"
   ]
  },
  {
   "cell_type": "markdown",
   "metadata": {
    "colab_type": "text",
    "id": "4jjRIcbERhIG"
   },
   "source": [
    "### Consolidated Ranking Results\n",
    "\n",
    "- Merge the ranks obtained per platform\n",
    "- Create a consolidated graph for ranking of the OPM artists. \n",
    "- Divide the graph into 4 clusters and label each as follows:\n",
    "    - Popular on YouTube (upper-left)\n",
    "    - Not Popular on Both (upper-right)\n",
    "    - Popular on Both (lower-left)\n",
    "    - Popular on Spotify (lower-right) \n"
   ]
  },
  {
   "cell_type": "code",
   "execution_count": 35,
   "metadata": {
    "ExecuteTime": {
     "end_time": "2020-06-27T07:59:19.643656Z",
     "start_time": "2020-06-27T07:59:19.627656Z"
    },
    "colab": {
     "base_uri": "https://localhost:8080/",
     "height": 927
    },
    "colab_type": "code",
    "id": "EDylavYTRt2a",
    "outputId": "22034391-f17f-40f4-f2b3-2f8f64263b87"
   },
   "outputs": [
    {
     "data": {
      "text/html": [
       "<div>\n",
       "<style scoped>\n",
       "    .dataframe tbody tr th:only-of-type {\n",
       "        vertical-align: middle;\n",
       "    }\n",
       "\n",
       "    .dataframe tbody tr th {\n",
       "        vertical-align: top;\n",
       "    }\n",
       "\n",
       "    .dataframe thead th {\n",
       "        text-align: right;\n",
       "    }\n",
       "</style>\n",
       "<table border=\"1\" class=\"dataframe\">\n",
       "  <thead>\n",
       "    <tr style=\"text-align: right;\">\n",
       "      <th></th>\n",
       "      <th>artist</th>\n",
       "      <th>Spotify Rank</th>\n",
       "      <th>YouTube Rank</th>\n",
       "    </tr>\n",
       "  </thead>\n",
       "  <tbody>\n",
       "    <tr>\n",
       "      <th>9</th>\n",
       "      <td>ALLMO$T</td>\n",
       "      <td>13</td>\n",
       "      <td>8</td>\n",
       "    </tr>\n",
       "    <tr>\n",
       "      <th>26</th>\n",
       "      <td>Because</td>\n",
       "      <td>25</td>\n",
       "      <td>7</td>\n",
       "    </tr>\n",
       "    <tr>\n",
       "      <th>1</th>\n",
       "      <td>Ben&amp;Ben</td>\n",
       "      <td>1</td>\n",
       "      <td>6</td>\n",
       "    </tr>\n",
       "    <tr>\n",
       "      <th>14</th>\n",
       "      <td>Callalily</td>\n",
       "      <td>23</td>\n",
       "      <td>13</td>\n",
       "    </tr>\n",
       "    <tr>\n",
       "      <th>0</th>\n",
       "      <td>December Avenue</td>\n",
       "      <td>3</td>\n",
       "      <td>16</td>\n",
       "    </tr>\n",
       "    <tr>\n",
       "      <th>10</th>\n",
       "      <td>Eraserheads</td>\n",
       "      <td>5</td>\n",
       "      <td>15</td>\n",
       "    </tr>\n",
       "    <tr>\n",
       "      <th>19</th>\n",
       "      <td>Ex Battalion</td>\n",
       "      <td>10</td>\n",
       "      <td>1</td>\n",
       "    </tr>\n",
       "    <tr>\n",
       "      <th>17</th>\n",
       "      <td>Hale</td>\n",
       "      <td>20</td>\n",
       "      <td>23</td>\n",
       "    </tr>\n",
       "    <tr>\n",
       "      <th>4</th>\n",
       "      <td>I Belong to the Zoo</td>\n",
       "      <td>11</td>\n",
       "      <td>4</td>\n",
       "    </tr>\n",
       "    <tr>\n",
       "      <th>11</th>\n",
       "      <td>IV Of Spades</td>\n",
       "      <td>16</td>\n",
       "      <td>9</td>\n",
       "    </tr>\n",
       "    <tr>\n",
       "      <th>18</th>\n",
       "      <td>Jason Marvin</td>\n",
       "      <td>29</td>\n",
       "      <td>28</td>\n",
       "    </tr>\n",
       "    <tr>\n",
       "      <th>21</th>\n",
       "      <td>Jnske</td>\n",
       "      <td>30</td>\n",
       "      <td>12</td>\n",
       "    </tr>\n",
       "    <tr>\n",
       "      <th>25</th>\n",
       "      <td>John Roa</td>\n",
       "      <td>18</td>\n",
       "      <td>20</td>\n",
       "    </tr>\n",
       "    <tr>\n",
       "      <th>29</th>\n",
       "      <td>Kamikazee</td>\n",
       "      <td>19</td>\n",
       "      <td>24</td>\n",
       "    </tr>\n",
       "    <tr>\n",
       "      <th>15</th>\n",
       "      <td>MYMP</td>\n",
       "      <td>6</td>\n",
       "      <td>27</td>\n",
       "    </tr>\n",
       "    <tr>\n",
       "      <th>22</th>\n",
       "      <td>Mayonnaise</td>\n",
       "      <td>22</td>\n",
       "      <td>10</td>\n",
       "    </tr>\n",
       "    <tr>\n",
       "      <th>16</th>\n",
       "      <td>Michael Pangilinan</td>\n",
       "      <td>14</td>\n",
       "      <td>3</td>\n",
       "    </tr>\n",
       "    <tr>\n",
       "      <th>2</th>\n",
       "      <td>Moira Dela Torre</td>\n",
       "      <td>2</td>\n",
       "      <td>11</td>\n",
       "    </tr>\n",
       "    <tr>\n",
       "      <th>8</th>\n",
       "      <td>PDL</td>\n",
       "      <td>28</td>\n",
       "      <td>2</td>\n",
       "    </tr>\n",
       "    <tr>\n",
       "      <th>6</th>\n",
       "      <td>Parokya Ni Edgar</td>\n",
       "      <td>4</td>\n",
       "      <td>21</td>\n",
       "    </tr>\n",
       "    <tr>\n",
       "      <th>24</th>\n",
       "      <td>Regine Velasquez</td>\n",
       "      <td>12</td>\n",
       "      <td>19</td>\n",
       "    </tr>\n",
       "    <tr>\n",
       "      <th>27</th>\n",
       "      <td>Rivermaya</td>\n",
       "      <td>15</td>\n",
       "      <td>30</td>\n",
       "    </tr>\n",
       "    <tr>\n",
       "      <th>13</th>\n",
       "      <td>Sarah Geronimo</td>\n",
       "      <td>8</td>\n",
       "      <td>17</td>\n",
       "    </tr>\n",
       "    <tr>\n",
       "      <th>28</th>\n",
       "      <td>Shanti Dope</td>\n",
       "      <td>26</td>\n",
       "      <td>26</td>\n",
       "    </tr>\n",
       "    <tr>\n",
       "      <th>7</th>\n",
       "      <td>Silent Sanctuary</td>\n",
       "      <td>9</td>\n",
       "      <td>25</td>\n",
       "    </tr>\n",
       "    <tr>\n",
       "      <th>5</th>\n",
       "      <td>Skusta Clee</td>\n",
       "      <td>7</td>\n",
       "      <td>18</td>\n",
       "    </tr>\n",
       "    <tr>\n",
       "      <th>3</th>\n",
       "      <td>This Band</td>\n",
       "      <td>17</td>\n",
       "      <td>29</td>\n",
       "    </tr>\n",
       "    <tr>\n",
       "      <th>23</th>\n",
       "      <td>Up Dharma Down</td>\n",
       "      <td>27</td>\n",
       "      <td>22</td>\n",
       "    </tr>\n",
       "    <tr>\n",
       "      <th>20</th>\n",
       "      <td>Yeng Constantino</td>\n",
       "      <td>21</td>\n",
       "      <td>14</td>\n",
       "    </tr>\n",
       "    <tr>\n",
       "      <th>12</th>\n",
       "      <td>juan karlos</td>\n",
       "      <td>24</td>\n",
       "      <td>5</td>\n",
       "    </tr>\n",
       "  </tbody>\n",
       "</table>\n",
       "</div>"
      ],
      "text/plain": [
       "                 artist  Spotify Rank  YouTube Rank\n",
       "9               ALLMO$T            13             8\n",
       "26              Because            25             7\n",
       "1               Ben&Ben             1             6\n",
       "14            Callalily            23            13\n",
       "0       December Avenue             3            16\n",
       "10          Eraserheads             5            15\n",
       "19         Ex Battalion            10             1\n",
       "17                 Hale            20            23\n",
       "4   I Belong to the Zoo            11             4\n",
       "11         IV Of Spades            16             9\n",
       "18         Jason Marvin            29            28\n",
       "21                Jnske            30            12\n",
       "25             John Roa            18            20\n",
       "29            Kamikazee            19            24\n",
       "15                 MYMP             6            27\n",
       "22           Mayonnaise            22            10\n",
       "16   Michael Pangilinan            14             3\n",
       "2      Moira Dela Torre             2            11\n",
       "8                   PDL            28             2\n",
       "6      Parokya Ni Edgar             4            21\n",
       "24     Regine Velasquez            12            19\n",
       "27            Rivermaya            15            30\n",
       "13       Sarah Geronimo             8            17\n",
       "28          Shanti Dope            26            26\n",
       "7      Silent Sanctuary             9            25\n",
       "5           Skusta Clee             7            18\n",
       "3             This Band            17            29\n",
       "23       Up Dharma Down            27            22\n",
       "20     Yeng Constantino            21            14\n",
       "12          juan karlos            24             5"
      ]
     },
     "execution_count": 35,
     "metadata": {},
     "output_type": "execute_result"
    }
   ],
   "source": [
    "rank_df = spotify_ranking.merge(youtube_ranking, on='artist', how='inner')\n",
    "\n",
    "rank_df = rank_df.rename(columns={'Rank_x':'Spotify Rank','Rank_y':'YouTube Rank'})\n",
    "\n",
    "rank_df = rank_df[['artist','Spotify Rank','YouTube Rank']]\n",
    "\n",
    "rank_df.sort_values('artist')"
   ]
  },
  {
   "cell_type": "code",
   "execution_count": 36,
   "metadata": {
    "ExecuteTime": {
     "end_time": "2020-06-27T07:59:20.039367Z",
     "start_time": "2020-06-27T07:59:19.645917Z"
    },
    "colab": {
     "base_uri": "https://localhost:8080/",
     "height": 917
    },
    "colab_type": "code",
    "id": "rTBSqks9QXrj",
    "outputId": "035d74bc-52a2-4cfe-ac5c-3eafdb6bbc12"
   },
   "outputs": [
    {
     "data": {
      "image/png": "[encoded data removed]",
      "text/plain": [
       "<Figure size 1080x1080 with 1 Axes>"
      ]
     },
     "metadata": {},
     "output_type": "display_data"
    }
   ],
   "source": [
    "f, ax = plt.subplots(figsize=(15, 15))\n",
    "sns.set()\n",
    "sns.set(font_scale = 1.5)\n",
    "\n",
    "ax = sns.scatterplot(x=\"Spotify Rank\", y=\"YouTube Rank\", data= rank_df, s=120)\n",
    "ax.set_title('Ranking of OPM Artists on Spotify and YouTube',size = 20)\n",
    "ax.set(xlabel=\"Rank on Spotify\", ylabel = \"Rank on YouTube\")\n",
    "ax.grid(b=True)\n",
    "# ax.set_xlim(0,33)\n",
    "# ax.set_ylim(0,33)\n",
    "ax.axvline(x=0, color='red')\n",
    "ax.axvline(x=15, color='red')\n",
    "ax.axvline(x=30, color='red')\n",
    "ax.axhline(y=0, color='red')\n",
    "ax.axhline(y=15, color='red')\n",
    "ax.axhline(y=30, color='red')\n",
    "ax.axhspan(0, 15, facecolor='green', alpha=0.1)\n",
    "ax.axhspan(15, 30, facecolor='yellow', alpha=0.1)\n",
    "ax.axvspan(15, 30, facecolor='red', alpha=0.1)\n",
    "ax.axvspan(0, 15, facecolor='blue', alpha=0.1)\n",
    "ax.text(3.5, 23, \"Popular on YouTube\", horizontalalignment='left', \n",
    "        size='medium', color='black', weight='semibold')\n",
    "ax.text(18.5, 23, \"Not Popular on Both\", horizontalalignment='left', \n",
    "        size='medium', color='black', weight='semibold')\n",
    "ax.text(4.5, 8, \"Popular on Both\", horizontalalignment='left', \n",
    "        size='medium', color='black', weight='semibold')\n",
    "ax.text(19, 8, \"Popular on Spotify\", horizontalalignment='left', \n",
    "        size='medium', color='black', weight='semibold')\n",
    "\n",
    "for line in range(0,rank_df.shape[0]):\n",
    "     ax.text(rank_df['Spotify Rank'][line], \n",
    "             rank_df['YouTube Rank'][line], rank_df.artist[line], \n",
    "             ha='center',va='top', fontsize=11, color='black')\n"
   ]
  },
  {
   "cell_type": "markdown",
   "metadata": {
    "colab_type": "text",
    "id": "YgEFEpUv3Cqr"
   },
   "source": [
    "# Insights and Recommendations"
   ]
  },
  {
   "cell_type": "markdown",
   "metadata": {
    "colab_type": "text",
    "id": "0JRH5WEE_-5A"
   },
   "source": [
    "Based on how the Top 30 OPM Artists of 2019 in Spotify performed in both platforms, we can definitely say that they have varied reception of consumers with both platforms considered. This can definitely change the way an artist is marketed from another so that their number of plays or views will be marginally profitable for how much it costs to get them to consumers. With the low correlation in performance from one platform to another, artists must also identify their goal moving forward: do they want to focus on one platform or do they want to diversify the availability of their music? The answer to these questions may affect the way they market and how their fans will respond should they change their strategies moving forward.\n",
    "\n",
    "Moreover, given the relatively high correlation of metrics within each platform, artists must take every opportunity to encourage viewers or listeners to subscribe or follow. We can infer that the recommender systems in these platforms increases the likelihood of future content to be played by subscribers or followers. This in turn will translate to more profits for the artist.\n",
    "\n",
    "For further studies on the performance of artists on various platforms, we recommend looking at the profile of the listeners for each content should this data be available. This may further show the behavior of music consumers and provide more insights in creating strategies for the music industry."
   ]
  },
  {
   "cell_type": "markdown",
   "metadata": {
    "colab_type": "text",
    "id": "iGkAhCKf-RG5"
   },
   "source": [
    "# References"
   ]
  },
  {
   "cell_type": "markdown",
   "metadata": {
    "colab_type": "text",
    "id": "IJLenImQ-U9U"
   },
   "source": [
    "\n",
    "1. Clapier, W., (2014, Jul 26). Music: Universal language of mankind, _Daily Record_ <br> Retrived from: https://www.dailyrecordnews.com/religion/music-universal-language-of-mankind/article_ef95074a-1475-11e4-85a9-0019bb2963f4.html\n",
    "\n",
    "2. Cole, S., (2019, Sept 9). The Impact of Technology and Social Media on the Music Industry. Retrieved from: https://econsultancy.com/the-impact-of-technology-and-social-media-on-the-music-industry/\n",
    "\n",
    "3. The OPM Ballads of the Philippines Will Make You Get Up and Sing (2019, Mar 27). <br> Retrieved from: https://newsroom.spotify.com/2019-03-27/the-opm-ballads-of-the-philippines-will-make-you-get-up-and-sing/#:~:text=Filipino%20pop%20music%2C%20otherwise%20known,the%20Filipino%20market%20and%20beyond.\n",
    "\n",
    "4. Pandas rank by multiple columns (2020) <br> Retrieved from: https://www.thetopsites.net/article/50315276.shtml\n",
    "\n",
    "5. Ritcher, F., (2018, Oct 12). The World's Favorite Music Genres. <br>Retrieved from: https://www.statista.com/chart/15763/most-popular-music-genres-worldwide/ \n",
    "\n",
    "6. What music genre does your country produce the most? (2019, Sep 25). _Tickx_ <br> Retrieved from: https://content.tickx.co.uk/en-gb/story/music-genre-by-country/ "
   ]
  }
 ],
 "metadata": {
  "colab": {
   "collapsed_sections": [],
   "name": "DMW_Mini_Project_2.ipynb",
   "provenance": [],
   "toc_visible": true
  },
  "kernelspec": {
   "display_name": "Python 3",
   "language": "python",
   "name": "python3"
  },
  "language_info": {
   "codemirror_mode": {
    "name": "ipython",
    "version": 3
   },
   "file_extension": ".py",
   "mimetype": "text/x-python",
   "name": "python",
   "nbconvert_exporter": "python",
   "pygments_lexer": "ipython3",
   "version": "3.8.8"
  },
  "latex_envs": {
   "LaTeX_envs_menu_present": true,
   "autoclose": true,
   "autocomplete": false,
   "bibliofile": "biblio.bib",
   "cite_by": "apalike",
   "current_citInitial": 1,
   "eqLabelWithNumbers": true,
   "eqNumInitial": 1,
   "hotkeys": {
    "equation": "Ctrl-E",
    "itemize": "Ctrl-I"
   },
   "labels_anchors": false,
   "latex_user_defs": false,
   "report_style_numbering": false,
   "user_envs_cfg": false
  },
  "toc": {
   "base_numbering": 1,
   "nav_menu": {},
   "number_sections": true,
   "sideBar": true,
   "skip_h1_title": false,
   "title_cell": "Table of Contents",
   "title_sidebar": "Contents",
   "toc_cell": false,
   "toc_position": {
    "height": "calc(100% - 180px)",
    "left": "10px",
    "top": "150px",
    "width": "165px"
   },
   "toc_section_display": true,
   "toc_window_display": true
  },
  "varInspector": {
   "cols": {
    "lenName": 16,
    "lenType": 16,
    "lenVar": 40
   },
   "kernels_config": {
    "python": {
     "delete_cmd_postfix": "",
     "delete_cmd_prefix": "del ",
     "library": "var_list.py",
     "varRefreshCmd": "print(var_dic_list())"
    },
    "r": {
     "delete_cmd_postfix": ") ",
     "delete_cmd_prefix": "rm(",
     "library": "var_list.r",
     "varRefreshCmd": "cat(var_dic_list()) "
    }
   },
   "types_to_exclude": [
    "module",
    "function",
    "builtin_function_or_method",
    "instance",
    "_Feature"
   ],
   "window_display": false
  }
 },
 "nbformat": 4,
 "nbformat_minor": 1
}
